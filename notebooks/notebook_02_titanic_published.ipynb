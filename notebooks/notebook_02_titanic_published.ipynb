{
  "cells": [
    {
      "cell_type": "markdown",
      "metadata": {
        "id": "aV7Ok8a9jogr"
      },
      "source": [
        "[![Open In Colab](https://colab.research.google.com/assets/colab-badge.svg)](https://colab.research.google.com/github/aprendizaje-automatico-dc-uba-ar/material/blob/main/notebooks/notebook_02_titanic-published.ipynb)\n",
        "\n",
        "# Titanic\n",
        "\n",
        "En este ejercicio, deberán descargar y explorar el contenido de la base de datos en formato CSV (valores separados por comas) que contiene datos de pasajeros del naufragio del transatlántico Titanic en 1912, incluyendo edad, sexo, clase del pasaje y supervivencia a la tragedia, entre otros.\n",
        "\n",
        "Completar el notebook de manera de clasificar a los pasajeros en supervivientes y no supervivientes\n",
        "tan bien como sea posible.\n",
        "\n",
        "Atención, en este momento de la materia no está permitido usar ninguna técnica de Aprendizaje Automático.\n",
        "El objetivo es conseguir un buen porcentaje de aciertos sobre estos datos.\n"
      ]
    },
    {
      "cell_type": "markdown",
      "metadata": {
        "id": "QFfvwS9Fjogs"
      },
      "source": [
        "## Antes de empezar\n",
        "\n",
        "Preparamos algunas funciones auxiliares para trabajar:\n",
        "\n",
        "1. `cargar_datos`: lee el csv con los datos\n",
        "1. `predict`: dado un conjunto de datos, devuelve la predicción para cada instancia\n",
        "1. `accuracy`: métrica sobre el desempeño de una predicción definida como:\n",
        "\n",
        "  $$accuracy = \\frac{\\#aciertos}{\\#predicciones}$$\n",
        "        \n",
        "  Su interpretación puede ser:  en cuántos casos acerté.\n",
        "        "
      ]
    },
    {
      "cell_type": "code",
      "execution_count": 2,
      "metadata": {
        "id": "BC4e0Ix6jogt"
      },
      "outputs": [],
      "source": [
        "from IPython.display import display\n",
        "import pandas as pd\n",
        "from typing import Tuple\n",
        "\n",
        "def cargar_datos() -> Tuple[pd.DataFrame, pd.Series]:\n",
        "    \"\"\"\n",
        "    Carga los datos del Titanic desde un archivo CSV y devuelve las características (X) y las etiquetas (y).\n",
        "\n",
        "    Returns:\n",
        "        X (pd.DataFrame): Características del dataset, excluyendo la columna \"Survived\" y \"PassengerId\".\n",
        "        y (pd.Series): Etiquetas del dataset, correspondientes a la columna \"Survived\".\n",
        "    \"\"\"\n",
        "    df = pd.read_csv(\n",
        "        \"https://github.com/aprendizaje-automatico-dc-uba-ar/material/raw/main/datasets/data_02/titanic.csv\"\n",
        "    )\n",
        "    X = df.drop(\"Survived\", axis=1).drop(\"PassengerId\", axis=1)\n",
        "    y = df.Survived\n",
        "    return X, y\n",
        "\n",
        "\n",
        "def predict(X: pd.DataFrame) -> list:\n",
        "    \"\"\"\n",
        "    Predice la salida para cada fila de los datos. Debe definirse primero la función predict_instance para utilizarla\n",
        "    \"\"\"\n",
        "    y_predicted = []\n",
        "    for x in X.itertuples():\n",
        "        try:\n",
        "            y_i = predict_instance(x)\n",
        "        except NameError:\n",
        "            raise NameError(\"Por favor definir la función predict_instance\")\n",
        "        y_predicted.append(y_i)\n",
        "    return y_predicted\n",
        "\n",
        "\n",
        "def accuracy(y_predicted: list, y_real: list) -> float:\n",
        "    \"\"\"\n",
        "    Calcula el accuracy entre un y_predicted y un y_real.\n",
        "    \"\"\"\n",
        "    TP_TN = sum([y_i == y_j for (y_i, y_j) in zip(y_predicted, y_real)])\n",
        "    P_N = len(y_real)\n",
        "    return TP_TN / P_N"
      ]
    },
    {
      "cell_type": "code",
      "execution_count": 3,
      "metadata": {
        "id": "z0wVdbHa3Jd-"
      },
      "outputs": [],
      "source": [
        "import matplotlib.pyplot as plt\n",
        "import seaborn as sns"
      ]
    },
    {
      "cell_type": "markdown",
      "metadata": {
        "id": "WrvlNLSvjogt"
      },
      "source": [
        "## Ejercicio\n",
        "\n",
        "Antes de empezar cargamos los datos y los separamos en `X` (dataframe de instancias con atributos que usaremos como columnas y datos como filas), `y` (vector de clases a las que corresponde cada instancia).\n",
        "\n",
        "Definición de los datos:\n",
        "\n",
        "Variable|Definición|Interpretación de valores\n",
        "--------|--------|--------\n",
        "survival|Sobreviviente|0 = No, 1 = Sí\n",
        "pclass|Clase de pasaje|1 = 1era, 2 = 2da, 3 = 3era\n",
        "sex|Sexo|\n",
        "Age|Edad en años|\n",
        "sibsp|# hermanos/as/ esposos/as a bordo|\n",
        "parch|# padres / hijos a bordo|\n",
        "ticket|Número de Ticket|\n",
        "fare|Tarifa|\n",
        "cabin|Número de cabina|\n",
        "embarked|Puerto de embarque|C = Cherbourg<br>Q = Queenstown<br>S = Southampton\n",
        "\n",
        "\n",
        "Una recomendación, para este ejercicio y para todos los ejercicios, antes de comenzar el ejercicio explorar los datos para ver qué forma/característica tiene y ganar intuición sobre el dominio en el que se va a trabajar.\n",
        "\n",
        "Entre muchas cosas, se puede:\n",
        "\n",
        "  - Inspeccione y verifique el tipo de dato del dataframe. Calcule medidas resumen para las distintas columnas\n",
        "  - Graficar distintos atributos y observar su distribución (Ej. la edad: ¿son más jóvenes? ¿O más viejos? ¿O un poco y un poco?).\n",
        "  - Graficar relaciones entre atributos y relaciones entre atributos y la salida (si sobrevivió o no). Ver opciones de `seaborn` sugeridas en el notebook anterior.\n",
        "  \n",
        "\n",
        "***Obs.*** Recuerde importar las librerías necesarias como `Matplotlib` o `Seaborn`.\n"
      ]
    },
    {
      "cell_type": "code",
      "execution_count": 4,
      "metadata": {
        "id": "ZVFMPHuGjogu"
      },
      "outputs": [],
      "source": [
        "X, y = cargar_datos()"
      ]
    },
    {
      "cell_type": "code",
      "execution_count": 5,
      "metadata": {
        "colab": {
          "base_uri": "https://localhost:8080/",
          "height": 423
        },
        "id": "RdECNpO1jogu",
        "outputId": "440e930f-725b-4fc0-ab00-610dbc2cee1b"
      },
      "outputs": [
        {
          "data": {
            "text/html": [
              "<div>\n",
              "<style scoped>\n",
              "    .dataframe tbody tr th:only-of-type {\n",
              "        vertical-align: middle;\n",
              "    }\n",
              "\n",
              "    .dataframe tbody tr th {\n",
              "        vertical-align: top;\n",
              "    }\n",
              "\n",
              "    .dataframe thead th {\n",
              "        text-align: right;\n",
              "    }\n",
              "</style>\n",
              "<table border=\"1\" class=\"dataframe\">\n",
              "  <thead>\n",
              "    <tr style=\"text-align: right;\">\n",
              "      <th></th>\n",
              "      <th>Pclass</th>\n",
              "      <th>Name</th>\n",
              "      <th>Sex</th>\n",
              "      <th>Age</th>\n",
              "      <th>SibSp</th>\n",
              "      <th>Parch</th>\n",
              "      <th>Ticket</th>\n",
              "      <th>Fare</th>\n",
              "      <th>Cabin</th>\n",
              "      <th>Embarked</th>\n",
              "    </tr>\n",
              "  </thead>\n",
              "  <tbody>\n",
              "    <tr>\n",
              "      <th>0</th>\n",
              "      <td>1</td>\n",
              "      <td>Homer, Mr. Harry (\"Mr E Haven\")</td>\n",
              "      <td>male</td>\n",
              "      <td>35.0</td>\n",
              "      <td>0</td>\n",
              "      <td>0</td>\n",
              "      <td>111426</td>\n",
              "      <td>26.5500</td>\n",
              "      <td>NaN</td>\n",
              "      <td>C</td>\n",
              "    </tr>\n",
              "    <tr>\n",
              "      <th>1</th>\n",
              "      <td>3</td>\n",
              "      <td>Rintamaki, Mr. Matti</td>\n",
              "      <td>male</td>\n",
              "      <td>35.0</td>\n",
              "      <td>0</td>\n",
              "      <td>0</td>\n",
              "      <td>STON/O 2. 3101273</td>\n",
              "      <td>7.1250</td>\n",
              "      <td>NaN</td>\n",
              "      <td>S</td>\n",
              "    </tr>\n",
              "    <tr>\n",
              "      <th>2</th>\n",
              "      <td>2</td>\n",
              "      <td>Butler, Mr. Reginald Fenton</td>\n",
              "      <td>male</td>\n",
              "      <td>25.0</td>\n",
              "      <td>0</td>\n",
              "      <td>0</td>\n",
              "      <td>234686</td>\n",
              "      <td>13.0000</td>\n",
              "      <td>NaN</td>\n",
              "      <td>S</td>\n",
              "    </tr>\n",
              "    <tr>\n",
              "      <th>3</th>\n",
              "      <td>3</td>\n",
              "      <td>Moutal, Mr. Rahamin Haim</td>\n",
              "      <td>male</td>\n",
              "      <td>NaN</td>\n",
              "      <td>0</td>\n",
              "      <td>0</td>\n",
              "      <td>374746</td>\n",
              "      <td>8.0500</td>\n",
              "      <td>NaN</td>\n",
              "      <td>S</td>\n",
              "    </tr>\n",
              "    <tr>\n",
              "      <th>4</th>\n",
              "      <td>3</td>\n",
              "      <td>Aks, Mrs. Sam (Leah Rosen)</td>\n",
              "      <td>female</td>\n",
              "      <td>18.0</td>\n",
              "      <td>0</td>\n",
              "      <td>1</td>\n",
              "      <td>392091</td>\n",
              "      <td>9.3500</td>\n",
              "      <td>NaN</td>\n",
              "      <td>S</td>\n",
              "    </tr>\n",
              "    <tr>\n",
              "      <th>...</th>\n",
              "      <td>...</td>\n",
              "      <td>...</td>\n",
              "      <td>...</td>\n",
              "      <td>...</td>\n",
              "      <td>...</td>\n",
              "      <td>...</td>\n",
              "      <td>...</td>\n",
              "      <td>...</td>\n",
              "      <td>...</td>\n",
              "      <td>...</td>\n",
              "    </tr>\n",
              "    <tr>\n",
              "      <th>796</th>\n",
              "      <td>3</td>\n",
              "      <td>Skoog, Mr. Wilhelm</td>\n",
              "      <td>male</td>\n",
              "      <td>40.0</td>\n",
              "      <td>1</td>\n",
              "      <td>4</td>\n",
              "      <td>347088</td>\n",
              "      <td>27.9000</td>\n",
              "      <td>NaN</td>\n",
              "      <td>S</td>\n",
              "    </tr>\n",
              "    <tr>\n",
              "      <th>797</th>\n",
              "      <td>3</td>\n",
              "      <td>Moubarek, Master. Halim Gonios (\"William George\")</td>\n",
              "      <td>male</td>\n",
              "      <td>NaN</td>\n",
              "      <td>1</td>\n",
              "      <td>1</td>\n",
              "      <td>2661</td>\n",
              "      <td>15.2458</td>\n",
              "      <td>NaN</td>\n",
              "      <td>C</td>\n",
              "    </tr>\n",
              "    <tr>\n",
              "      <th>798</th>\n",
              "      <td>2</td>\n",
              "      <td>Kvillner, Mr. Johan Henrik Johannesson</td>\n",
              "      <td>male</td>\n",
              "      <td>31.0</td>\n",
              "      <td>0</td>\n",
              "      <td>0</td>\n",
              "      <td>C.A. 18723</td>\n",
              "      <td>10.5000</td>\n",
              "      <td>NaN</td>\n",
              "      <td>S</td>\n",
              "    </tr>\n",
              "    <tr>\n",
              "      <th>799</th>\n",
              "      <td>1</td>\n",
              "      <td>Smith, Mr. James Clinch</td>\n",
              "      <td>male</td>\n",
              "      <td>56.0</td>\n",
              "      <td>0</td>\n",
              "      <td>0</td>\n",
              "      <td>17764</td>\n",
              "      <td>30.6958</td>\n",
              "      <td>A7</td>\n",
              "      <td>C</td>\n",
              "    </tr>\n",
              "    <tr>\n",
              "      <th>800</th>\n",
              "      <td>2</td>\n",
              "      <td>Nasser, Mr. Nicholas</td>\n",
              "      <td>male</td>\n",
              "      <td>32.5</td>\n",
              "      <td>1</td>\n",
              "      <td>0</td>\n",
              "      <td>237736</td>\n",
              "      <td>30.0708</td>\n",
              "      <td>NaN</td>\n",
              "      <td>C</td>\n",
              "    </tr>\n",
              "  </tbody>\n",
              "</table>\n",
              "<p>801 rows × 10 columns</p>\n",
              "</div>"
            ],
            "text/plain": [
              "     Pclass                                               Name     Sex   Age  \\\n",
              "0         1                    Homer, Mr. Harry (\"Mr E Haven\")    male  35.0   \n",
              "1         3                               Rintamaki, Mr. Matti    male  35.0   \n",
              "2         2                        Butler, Mr. Reginald Fenton    male  25.0   \n",
              "3         3                           Moutal, Mr. Rahamin Haim    male   NaN   \n",
              "4         3                         Aks, Mrs. Sam (Leah Rosen)  female  18.0   \n",
              "..      ...                                                ...     ...   ...   \n",
              "796       3                                 Skoog, Mr. Wilhelm    male  40.0   \n",
              "797       3  Moubarek, Master. Halim Gonios (\"William George\")    male   NaN   \n",
              "798       2             Kvillner, Mr. Johan Henrik Johannesson    male  31.0   \n",
              "799       1                            Smith, Mr. James Clinch    male  56.0   \n",
              "800       2                               Nasser, Mr. Nicholas    male  32.5   \n",
              "\n",
              "     SibSp  Parch             Ticket     Fare Cabin Embarked  \n",
              "0        0      0             111426  26.5500   NaN        C  \n",
              "1        0      0  STON/O 2. 3101273   7.1250   NaN        S  \n",
              "2        0      0             234686  13.0000   NaN        S  \n",
              "3        0      0             374746   8.0500   NaN        S  \n",
              "4        0      1             392091   9.3500   NaN        S  \n",
              "..     ...    ...                ...      ...   ...      ...  \n",
              "796      1      4             347088  27.9000   NaN        S  \n",
              "797      1      1               2661  15.2458   NaN        C  \n",
              "798      0      0         C.A. 18723  10.5000   NaN        S  \n",
              "799      0      0              17764  30.6958    A7        C  \n",
              "800      1      0             237736  30.0708   NaN        C  \n",
              "\n",
              "[801 rows x 10 columns]"
            ]
          },
          "execution_count": 5,
          "metadata": {},
          "output_type": "execute_result"
        }
      ],
      "source": [
        "X"
      ]
    },
    {
      "cell_type": "code",
      "execution_count": 6,
      "metadata": {
        "colab": {
          "base_uri": "https://localhost:8080/",
          "height": 458
        },
        "id": "fp-79cLejogu",
        "outputId": "3ffb58b6-dc4b-4b49-b1ed-33f8c92a7189"
      },
      "outputs": [
        {
          "data": {
            "text/plain": [
              "0      1\n",
              "1      0\n",
              "2      0\n",
              "3      0\n",
              "4      1\n",
              "      ..\n",
              "796    0\n",
              "797    1\n",
              "798    0\n",
              "799    0\n",
              "800    0\n",
              "Name: Survived, Length: 801, dtype: int64"
            ]
          },
          "execution_count": 6,
          "metadata": {},
          "output_type": "execute_result"
        }
      ],
      "source": [
        "y"
      ]
    },
    {
      "cell_type": "code",
      "execution_count": 7,
      "metadata": {
        "colab": {
          "base_uri": "https://localhost:8080/"
        },
        "id": "li_TRq-Fjogu",
        "outputId": "753ffef9-d11e-4fa0-d451-dc7476586f18"
      },
      "outputs": [
        {
          "name": "stdout",
          "output_type": "stream",
          "text": [
            "<class 'pandas.core.frame.DataFrame'>\n",
            "RangeIndex: 801 entries, 0 to 800\n",
            "Data columns (total 10 columns):\n",
            " #   Column    Non-Null Count  Dtype  \n",
            "---  ------    --------------  -----  \n",
            " 0   Pclass    801 non-null    int64  \n",
            " 1   Name      801 non-null    object \n",
            " 2   Sex       801 non-null    object \n",
            " 3   Age       645 non-null    float64\n",
            " 4   SibSp     801 non-null    int64  \n",
            " 5   Parch     801 non-null    int64  \n",
            " 6   Ticket    801 non-null    object \n",
            " 7   Fare      801 non-null    float64\n",
            " 8   Cabin     191 non-null    object \n",
            " 9   Embarked  799 non-null    object \n",
            "dtypes: float64(2), int64(3), object(5)\n",
            "memory usage: 62.7+ KB\n"
          ]
        }
      ],
      "source": [
        "X.info()"
      ]
    },
    {
      "cell_type": "code",
      "execution_count": 8,
      "metadata": {
        "colab": {
          "base_uri": "https://localhost:8080/",
          "height": 300
        },
        "id": "8r9FXMfX2L8U",
        "outputId": "3ed1fe66-bc3c-4c99-9b89-46ab85f0a6dc"
      },
      "outputs": [
        {
          "data": {
            "text/html": [
              "<div>\n",
              "<style scoped>\n",
              "    .dataframe tbody tr th:only-of-type {\n",
              "        vertical-align: middle;\n",
              "    }\n",
              "\n",
              "    .dataframe tbody tr th {\n",
              "        vertical-align: top;\n",
              "    }\n",
              "\n",
              "    .dataframe thead th {\n",
              "        text-align: right;\n",
              "    }\n",
              "</style>\n",
              "<table border=\"1\" class=\"dataframe\">\n",
              "  <thead>\n",
              "    <tr style=\"text-align: right;\">\n",
              "      <th></th>\n",
              "      <th>Pclass</th>\n",
              "      <th>Age</th>\n",
              "      <th>SibSp</th>\n",
              "      <th>Parch</th>\n",
              "      <th>Fare</th>\n",
              "    </tr>\n",
              "  </thead>\n",
              "  <tbody>\n",
              "    <tr>\n",
              "      <th>count</th>\n",
              "      <td>801.000000</td>\n",
              "      <td>645.000000</td>\n",
              "      <td>801.000000</td>\n",
              "      <td>801.000000</td>\n",
              "      <td>801.000000</td>\n",
              "    </tr>\n",
              "    <tr>\n",
              "      <th>mean</th>\n",
              "      <td>2.295880</td>\n",
              "      <td>30.016543</td>\n",
              "      <td>0.523096</td>\n",
              "      <td>0.395755</td>\n",
              "      <td>33.524848</td>\n",
              "    </tr>\n",
              "    <tr>\n",
              "      <th>std</th>\n",
              "      <td>0.846224</td>\n",
              "      <td>14.593394</td>\n",
              "      <td>1.099899</td>\n",
              "      <td>0.827304</td>\n",
              "      <td>51.894603</td>\n",
              "    </tr>\n",
              "    <tr>\n",
              "      <th>min</th>\n",
              "      <td>1.000000</td>\n",
              "      <td>0.420000</td>\n",
              "      <td>0.000000</td>\n",
              "      <td>0.000000</td>\n",
              "      <td>0.000000</td>\n",
              "    </tr>\n",
              "    <tr>\n",
              "      <th>25%</th>\n",
              "      <td>1.000000</td>\n",
              "      <td>21.000000</td>\n",
              "      <td>0.000000</td>\n",
              "      <td>0.000000</td>\n",
              "      <td>7.895800</td>\n",
              "    </tr>\n",
              "    <tr>\n",
              "      <th>50%</th>\n",
              "      <td>3.000000</td>\n",
              "      <td>28.500000</td>\n",
              "      <td>0.000000</td>\n",
              "      <td>0.000000</td>\n",
              "      <td>14.458300</td>\n",
              "    </tr>\n",
              "    <tr>\n",
              "      <th>75%</th>\n",
              "      <td>3.000000</td>\n",
              "      <td>39.000000</td>\n",
              "      <td>1.000000</td>\n",
              "      <td>0.000000</td>\n",
              "      <td>31.387500</td>\n",
              "    </tr>\n",
              "    <tr>\n",
              "      <th>max</th>\n",
              "      <td>3.000000</td>\n",
              "      <td>80.000000</td>\n",
              "      <td>8.000000</td>\n",
              "      <td>6.000000</td>\n",
              "      <td>512.329200</td>\n",
              "    </tr>\n",
              "  </tbody>\n",
              "</table>\n",
              "</div>"
            ],
            "text/plain": [
              "           Pclass         Age       SibSp       Parch        Fare\n",
              "count  801.000000  645.000000  801.000000  801.000000  801.000000\n",
              "mean     2.295880   30.016543    0.523096    0.395755   33.524848\n",
              "std      0.846224   14.593394    1.099899    0.827304   51.894603\n",
              "min      1.000000    0.420000    0.000000    0.000000    0.000000\n",
              "25%      1.000000   21.000000    0.000000    0.000000    7.895800\n",
              "50%      3.000000   28.500000    0.000000    0.000000   14.458300\n",
              "75%      3.000000   39.000000    1.000000    0.000000   31.387500\n",
              "max      3.000000   80.000000    8.000000    6.000000  512.329200"
            ]
          },
          "execution_count": 8,
          "metadata": {},
          "output_type": "execute_result"
        }
      ],
      "source": [
        "X.describe()"
      ]
    },
    {
      "cell_type": "code",
      "execution_count": 9,
      "metadata": {
        "colab": {
          "base_uri": "https://localhost:8080/",
          "height": 427
        },
        "id": "llhANK627ZCc",
        "outputId": "462af311-43a4-4abb-eca2-d3f56e35ba01"
      },
      "outputs": [
        {
          "data": {
            "text/plain": [
              "[Text(0.5, 1.0, 'Survived 1'), (0.0, 0.2)]"
            ]
          },
          "execution_count": 9,
          "metadata": {},
          "output_type": "execute_result"
        },
        {
          "data": {
            "image/png": "[encoded data removed]",
            "text/plain": [
              "<Figure size 800x400 with 2 Axes>"
            ]
          },
          "metadata": {},
          "output_type": "display_data"
        }
      ],
      "source": [
        "plt.subplots(1, 2, figsize=(8, 4))\n",
        "sns.histplot(X[y==0], x='Age', hue='Sex', ax = plt.subplot(1, 2, 1), stat='proportion').set(title='Survived 0', ylim = (0, 0.2))\n",
        "sns.histplot(X[y==1], x='Age', hue='Sex',ax = plt.subplot(1, 2, 2), stat='proportion').set(title='Survived 1', ylim = (0, 0.2))"
      ]
    },
    {
      "cell_type": "code",
      "execution_count": 10,
      "metadata": {
        "colab": {
          "base_uri": "https://localhost:8080/",
          "height": 424
        },
        "id": "fdpUQSP7IX2l",
        "outputId": "24c2352a-7bcb-46f2-95c8-44cb51d07d82"
      },
      "outputs": [
        {
          "data": {
            "text/plain": [
              "<seaborn.axisgrid.FacetGrid at 0x247976eff50>"
            ]
          },
          "execution_count": 10,
          "metadata": {},
          "output_type": "execute_result"
        },
        {
          "data": {
            "image/png": "[encoded data removed]",
            "text/plain": [
              "<Figure size 811.111x400 with 2 Axes>"
            ]
          },
          "metadata": {},
          "output_type": "display_data"
        }
      ],
      "source": [
        "sns.catplot(\n",
        "    data=X,\n",
        "    x=y,\n",
        "    col='Sex',\n",
        "    kind=\"count\",\n",
        "    height=4,\n",
        "    stat='proportion'\n",
        ")"
      ]
    },
    {
      "cell_type": "code",
      "execution_count": 11,
      "metadata": {
        "colab": {
          "base_uri": "https://localhost:8080/",
          "height": 424
        },
        "id": "AcrDB6N0HArV",
        "outputId": "98ca8a69-d240-438f-b369-f974045c2c9c"
      },
      "outputs": [
        {
          "data": {
            "text/plain": [
              "<seaborn.axisgrid.FacetGrid at 0x247ffafc170>"
            ]
          },
          "execution_count": 11,
          "metadata": {},
          "output_type": "execute_result"
        },
        {
          "data": {
            "image/png": "[encoded data removed]",
            "text/plain": [
              "<Figure size 1211.11x400 with 3 Axes>"
            ]
          },
          "metadata": {},
          "output_type": "display_data"
        }
      ],
      "source": [
        "sns.catplot(\n",
        "    data=X,\n",
        "    col='Pclass',\n",
        "    x=y,\n",
        "    kind=\"count\",\n",
        "    height=4,\n",
        "    stat='proportion'\n",
        ")"
      ]
    },
    {
      "cell_type": "code",
      "execution_count": 12,
      "metadata": {
        "colab": {
          "base_uri": "https://localhost:8080/",
          "height": 231
        },
        "id": "3rNxsdBfMPVz",
        "outputId": "8e57735f-8854-4b3e-eb56-3641ccb7e5b5"
      },
      "outputs": [
        {
          "data": {
            "text/plain": [
              "<seaborn.axisgrid.FacetGrid at 0x247976ae2d0>"
            ]
          },
          "execution_count": 12,
          "metadata": {},
          "output_type": "execute_result"
        },
        {
          "data": {
            "image/png": "[encoded data removed]",
            "text/plain": [
              "<Figure size 2811.11x400 with 7 Axes>"
            ]
          },
          "metadata": {},
          "output_type": "display_data"
        }
      ],
      "source": [
        "sns.catplot(\n",
        "    data=X,\n",
        "    col='Parch',\n",
        "    x=y,\n",
        "    kind=\"count\",\n",
        "    height=4\n",
        ")"
      ]
    },
    {
      "cell_type": "code",
      "execution_count": 13,
      "metadata": {},
      "outputs": [
        {
          "data": {
            "text/html": [
              "<div>\n",
              "<style scoped>\n",
              "    .dataframe tbody tr th:only-of-type {\n",
              "        vertical-align: middle;\n",
              "    }\n",
              "\n",
              "    .dataframe tbody tr th {\n",
              "        vertical-align: top;\n",
              "    }\n",
              "\n",
              "    .dataframe thead th {\n",
              "        text-align: right;\n",
              "    }\n",
              "</style>\n",
              "<table border=\"1\" class=\"dataframe\">\n",
              "  <thead>\n",
              "    <tr style=\"text-align: right;\">\n",
              "      <th></th>\n",
              "      <th>Pclass</th>\n",
              "      <th>Age</th>\n",
              "      <th>SibSp</th>\n",
              "      <th>Parch</th>\n",
              "      <th>Fare</th>\n",
              "      <th>Survived</th>\n",
              "    </tr>\n",
              "  </thead>\n",
              "  <tbody>\n",
              "    <tr>\n",
              "      <th>count</th>\n",
              "      <td>801.000000</td>\n",
              "      <td>645.000000</td>\n",
              "      <td>801.000000</td>\n",
              "      <td>801.000000</td>\n",
              "      <td>801.000000</td>\n",
              "      <td>801.000000</td>\n",
              "    </tr>\n",
              "    <tr>\n",
              "      <th>mean</th>\n",
              "      <td>2.295880</td>\n",
              "      <td>30.016543</td>\n",
              "      <td>0.523096</td>\n",
              "      <td>0.395755</td>\n",
              "      <td>33.524848</td>\n",
              "      <td>0.393258</td>\n",
              "    </tr>\n",
              "    <tr>\n",
              "      <th>std</th>\n",
              "      <td>0.846224</td>\n",
              "      <td>14.593394</td>\n",
              "      <td>1.099899</td>\n",
              "      <td>0.827304</td>\n",
              "      <td>51.894603</td>\n",
              "      <td>0.488779</td>\n",
              "    </tr>\n",
              "    <tr>\n",
              "      <th>min</th>\n",
              "      <td>1.000000</td>\n",
              "      <td>0.420000</td>\n",
              "      <td>0.000000</td>\n",
              "      <td>0.000000</td>\n",
              "      <td>0.000000</td>\n",
              "      <td>0.000000</td>\n",
              "    </tr>\n",
              "    <tr>\n",
              "      <th>25%</th>\n",
              "      <td>1.000000</td>\n",
              "      <td>21.000000</td>\n",
              "      <td>0.000000</td>\n",
              "      <td>0.000000</td>\n",
              "      <td>7.895800</td>\n",
              "      <td>0.000000</td>\n",
              "    </tr>\n",
              "    <tr>\n",
              "      <th>50%</th>\n",
              "      <td>3.000000</td>\n",
              "      <td>28.500000</td>\n",
              "      <td>0.000000</td>\n",
              "      <td>0.000000</td>\n",
              "      <td>14.458300</td>\n",
              "      <td>0.000000</td>\n",
              "    </tr>\n",
              "    <tr>\n",
              "      <th>75%</th>\n",
              "      <td>3.000000</td>\n",
              "      <td>39.000000</td>\n",
              "      <td>1.000000</td>\n",
              "      <td>0.000000</td>\n",
              "      <td>31.387500</td>\n",
              "      <td>1.000000</td>\n",
              "    </tr>\n",
              "    <tr>\n",
              "      <th>max</th>\n",
              "      <td>3.000000</td>\n",
              "      <td>80.000000</td>\n",
              "      <td>8.000000</td>\n",
              "      <td>6.000000</td>\n",
              "      <td>512.329200</td>\n",
              "      <td>1.000000</td>\n",
              "    </tr>\n",
              "  </tbody>\n",
              "</table>\n",
              "</div>"
            ],
            "text/plain": [
              "           Pclass         Age       SibSp       Parch        Fare    Survived\n",
              "count  801.000000  645.000000  801.000000  801.000000  801.000000  801.000000\n",
              "mean     2.295880   30.016543    0.523096    0.395755   33.524848    0.393258\n",
              "std      0.846224   14.593394    1.099899    0.827304   51.894603    0.488779\n",
              "min      1.000000    0.420000    0.000000    0.000000    0.000000    0.000000\n",
              "25%      1.000000   21.000000    0.000000    0.000000    7.895800    0.000000\n",
              "50%      3.000000   28.500000    0.000000    0.000000   14.458300    0.000000\n",
              "75%      3.000000   39.000000    1.000000    0.000000   31.387500    1.000000\n",
              "max      3.000000   80.000000    8.000000    6.000000  512.329200    1.000000"
            ]
          },
          "execution_count": 13,
          "metadata": {},
          "output_type": "execute_result"
        }
      ],
      "source": [
        "datos = X.copy()\n",
        "datos['Survived'] = y\n",
        "datos.describe()"
      ]
    },
    {
      "cell_type": "markdown",
      "metadata": {
        "id": "HA6_RDEJjogu"
      },
      "source": [
        "A continuación se encuentra la primera definición de una función que predice. Esta tarea se resuelve devolviendo la etiqueta 0 o 1.\n",
        "\n",
        "En este punto se puede usar la información disponible del dataframe que considere necesaria, pero para esta primer implementación, la solución planteada es trivial: sobrevivieron todas las personas.\n",
        "\n"
      ]
    },
    {
      "cell_type": "code",
      "execution_count": 14,
      "metadata": {
        "id": "hNYHS8x0jogu"
      },
      "outputs": [],
      "source": [
        "def predict_instance(x: pd.Series) -> int:\n",
        "    \"\"\"\n",
        "    Predice la clase para instancia x.\n",
        "    \"\"\"\n",
        "    prediction = (x.Sex == \"female\") or (x.Pclass == 1) or (x.Pclass == 2)\n",
        "\n",
        "    return prediction"
      ]
    },
    {
      "cell_type": "markdown",
      "metadata": {
        "id": "2OnqTFq3jogu"
      },
      "source": [
        "Evaluamos este clasificador:"
      ]
    },
    {
      "cell_type": "code",
      "execution_count": 15,
      "metadata": {
        "colab": {
          "base_uri": "https://localhost:8080/"
        },
        "id": "_F2MM03Ajogv",
        "outputId": "ac42a6c2-dfc9-4c8a-c5e0-6b83ff67dec7"
      },
      "outputs": [
        {
          "name": "stdout",
          "output_type": "stream",
          "text": [
            "Accuracy: 0.668\n"
          ]
        }
      ],
      "source": [
        "y_pred = predict(X)\n",
        "\n",
        "print(f\"Accuracy: {round(accuracy(y_pred, y), 3)}\")"
      ]
    },
    {
      "cell_type": "markdown",
      "metadata": {
        "id": "_VHU8zlwjogv"
      },
      "source": [
        "### Consigna\n",
        "\n",
        "La tarea será escribir un algoritmo para predecir si sobrevivirá o no por instancia que obtenga el mejor valor de Accuracy.\n",
        "\n",
        "Para hacerlo sólo está permitido utilizar en la predicción reglas que tomen datos de la instancia (sin entrenamiento previo).\n",
        "\n",
        "Ej: `prediction = x.Sex==\"female\"`\n",
        "o combinaciones más complejas con condicionales (if), pero que únicamente utilicen los atributos de la instancia presente (`if x.Sex==\"female\": prediction = (x.Age % 2 == 0)  else: prediction = 0`.\n",
        "\n",
        "Como lo que tenemos es un `dataframe` de Pandas, podemos acceder a los atributos también así:\n",
        "```\n",
        "if x[\"Age\"] > 10:\n",
        "    return 1\n",
        "else:\n",
        "    ...\n",
        "```\n",
        "\n",
        "**No está permitido utilizar otras herramientas/técnicas en este punto.**"
      ]
    },
    {
      "cell_type": "code",
      "execution_count": 16,
      "metadata": {
        "colab": {
          "base_uri": "https://localhost:8080/"
        },
        "id": "zqKf0k1pjogv",
        "outputId": "f595995e-57a5-4e46-9705-bb71f351501b"
      },
      "outputs": [
        {
          "name": "stdout",
          "output_type": "stream",
          "text": [
            "Accuracy: 0.79\n"
          ]
        }
      ],
      "source": [
        "def predict_instance(x: pd.Series) -> int:\n",
        "    \"\"\"\n",
        "    Predice la clase para instancia x.\n",
        "    \"\"\"\n",
        "    if x.Sex == 'female':\n",
        "        return x.Pclass == 1 or x.Pclass == 2 or x.Age <= 40\n",
        "    else:\n",
        "        return x.Age <= 10 or x.Parch >= 6\n",
        "\n",
        "y_pred = predict(X)\n",
        "\n",
        "print(f\"Accuracy: {round(accuracy(y_pred, y), 3)}\")"
      ]
    },
    {
      "cell_type": "markdown",
      "metadata": {
        "id": "3UsxCOw8jogv"
      },
      "source": [
        "¡A armar nuevas funciones de predicción y mejorar el Accuracy!"
      ]
    }
  ],
  "metadata": {
    "colab": {
      "provenance": []
    },
    "kernelspec": {
      "display_name": "Python 3",
      "language": "python",
      "name": "python3"
    },
    "language_info": {
      "codemirror_mode": {
        "name": "ipython",
        "version": 3
      },
      "file_extension": ".py",
      "mimetype": "text/x-python",
      "name": "python",
      "nbconvert_exporter": "python",
      "pygments_lexer": "ipython3",
      "version": "3.12.2"
    }
  },
  "nbformat": 4,
  "nbformat_minor": 0
}
