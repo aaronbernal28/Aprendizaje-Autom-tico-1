{
 "cells": [
  {
   "cell_type": "markdown",
   "id": "8f023bae",
   "metadata": {},
   "source": [
    "[![Open In Colab](https://colab.research.google.com/assets/colab-badge.svg)](https://colab.research.google.com/github/aprendizaje-automatico-dc-uba-ar/material/blob/main/notebooks/notebook_10_secuencias-published.ipynb)\n",
    "\n",
    "# Prediciendo secuencias con redes neuronales\n"
   ]
  },
  {
   "cell_type": "markdown",
   "id": "a9649739",
   "metadata": {},
   "source": [
    "En este notebook vamos a abordar el problema de traducción automática de secuencias, específicamente la traducción de oraciones del inglés al español.\n",
    "\n",
    "El primer paso fundamental para resolver este problema es contar con un dataset adecuado. Para ello, podemos explorar la plataforma 🤗 Hugging Face Datasets, que ofrece una amplia colección de conjuntos de datos etiquetados y listos para usar. En particular, se puede filtrar por la tarea de Translation para encontrar datasets que contengan pares de oraciones en distintos idiomas, incluyendo español e inglés."
   ]
  },
  {
   "cell_type": "code",
   "execution_count": 29,
   "id": "7f1fdaed",
   "metadata": {},
   "outputs": [
    {
     "name": "stdout",
     "output_type": "stream",
     "text": [
      "Usando dispositivo: cuda\n"
     ]
    }
   ],
   "source": [
    "import torch\n",
    "import torch.nn as nn\n",
    "import torch.optim as optim\n",
    "import torch.nn.functional as F\n",
    "from torch.utils.data import Dataset, DataLoader\n",
    "import random\n",
    "import numpy as np\n",
    "from collections import Counter\n",
    "import matplotlib.pyplot as plt\n",
    "\n",
    "# Configuración del dispositivo\n",
    "device = torch.device('cuda' if torch.cuda.is_available() else 'cpu')\n",
    "print(f\"Usando dispositivo: {device}\")\n",
    "torch.cuda.set_per_process_memory_fraction(0.5)\n"
   ]
  },
  {
   "cell_type": "markdown",
   "id": "c4f0b578",
   "metadata": {},
   "source": [
    "### 1. Preparación de Datos\n",
    "\n",
    "Vamos a utilizar el dataset [`google/wmt24pp`](https://huggingface.co/datasets/google/wmt24pp). Para este ejercicio, trabajaremos con el par `en-es_MX` (inglés a español de México).\n",
    "\n",
    "Tienen que armar una función que devuelva:\n",
    "- Una lista con las oraciones en inglés (`source`)\n",
    "- Una lista con sus correspondientes traducciones en español (`target`)\n",
    "\n",
    "Solo deben incluirse ejemplos que **no estén marcados como de baja calidad** (`is_bad_source == false`).\n",
    "\n",
    "> 💡 Leer el [dataset card](https://huggingface.co/datasets/google/wmt24pp) para entender el formato de los datos.\n"
   ]
  },
  {
   "cell_type": "code",
   "execution_count": 30,
   "id": "7bdfa84f",
   "metadata": {},
   "outputs": [],
   "source": [
    "from datasets import load_dataset\n",
    "\n",
    "# Cargamos el dataset para el par en-es_MX\n",
    "dataset = load_dataset(\"google/wmt24pp\", \"en-es_MX\", split=\"train\")\n",
    "\n",
    "def obtener_listas_oraciones(dataset):\n",
    "    oraciones_en, oraciones_es = [], []\n",
    "    for data in dataset:\n",
    "        if not data['is_bad_source']:\n",
    "            oraciones_en.append(data['source'])\n",
    "            oraciones_es.append(data['target'])\n",
    "            \n",
    "    return oraciones_en, oraciones_es\n",
    "oraciones_en, oraciones_es = obtener_listas_oraciones(dataset)\n"
   ]
  },
  {
   "cell_type": "code",
   "execution_count": 31,
   "id": "60b45e72",
   "metadata": {},
   "outputs": [
    {
     "data": {
      "text/plain": [
       "[\"Siso's depictions of land, water center new gallery exhibition\",\n",
       " '\"People Swimming in the Swimming Pool\" from 2022 is one Vicente Siso artwork that will display at Tierra del Sol Gallery beginning Jan. 13. (photo courtesy of Vicente Siso)',\n",
       " 'Tierra del Sol is pleased to present \"Vicente Siso: Memories of the Land and Water\" at the new gallery location in West Hollywood. Siso has been an artist in the Studio Arts Program since 2012, this marks his debut solo exhibition. Siso was born 1962 in Madrid and raised between Venezuela, Trinidad and Miami; he moved with his family to Southern California in his early 20s.',\n",
       " 'Masterfully working across subject matter, Siso has generated a prolific series of landscapes, portraits, and still-life works rendered in either acrylic, pastel, pencil or watercolor. Drawing from family portraits, his own reference photographs, and recollection, his colorful compositions demonstrate his range of interests and skill across media. Siso\\'s tropical landscapes and seascapes reflect the geographies of his past, employing rich patterns and incorporating people to make meaningful connections between culture, memory and the environment. Siso titles his artworks in a mix of Spanish and English, signifying the celebrated and integral complexities of his life in Los Angeles County. \"Vicente Siso: Memories of the Land and Water\" opens on Saturday, Jan. 13, with a reception from 6-8 p.m. The exhibition is on view through Sunday, March 3.',\n",
       " 'The Tierra del Sol Gallery is located at 7414 Santa Monica Blvd. For information, visit tierradelsolgallery.org.']"
      ]
     },
     "execution_count": 31,
     "metadata": {},
     "output_type": "execute_result"
    }
   ],
   "source": [
    "oraciones_en[:5]"
   ]
  },
  {
   "cell_type": "code",
   "execution_count": 32,
   "id": "0d1674a4",
   "metadata": {},
   "outputs": [
    {
     "data": {
      "text/plain": [
       "['Representaciones de la tierra y el agua de Siso son el centro de una nueva exposición',\n",
       " '“Gente nadando en la alberca” (2022) es una de las obras de Vicente Siso que se expondrán en la galería Tierra del Sol a partir del 13 de enero (foto cortesía de Vicente Siso)',\n",
       " 'Tierra del Sol se complace en presentar “Vicente Siso: Recuerdos de la tierra y el agua” en la nueva ubicación de la galería, en West Hollywood. Siso es un artista del Studio Arts Program desde 2012 y esta exposición marca su debut como solista. Nacido en Madrid en 1962, creció alternando entre Venezuela, Trinidad y Miami. Con unos 20 años, se mudó con su familia al sur de California.',\n",
       " 'Trabajando con maestría diversas temáticas, Siso ha creado una prolífica serie de paisajes, retratos y naturalezas muertas en acrílico, pastel, lápiz y acuarela. A partir de retratos familiares, de sus propias fotografías referenciales y de sus recuerdos, sus coloridas composiciones demuestran una gran amplitud de intereses y habilidad con los distintos medios. Los paisajes tropicales y marinos de Siso reflejan las geografías de su pasado, empleando ricos patrones e incorporando personas para crear conexiones significativas entre la cultura, la memoria y el medio ambiente. Siso da título a sus obras en una mezcla de español e inglés, evidenciando la notoria complejidad integral de su vida en el condado de Los Ángeles. “Vicente Siso: Recuerdos de la tierra y el agua” abre al público el sábado 13 de enero con una recepción de 6 a 8 p.m. La exposición permanecerá abierta hasta el domingo 3 de marzo, inclusive.',\n",
       " 'La galería Tierra del Sol se encuentra en el 7414 de Santa Mónica Blvd. Para más información, visita tierradelsolgallery.org.']"
      ]
     },
     "execution_count": 32,
     "metadata": {},
     "output_type": "execute_result"
    }
   ],
   "source": [
    "oraciones_es[:5]"
   ]
  },
  {
   "cell_type": "markdown",
   "id": "eb289953",
   "metadata": {},
   "source": [
    "Además, **vamos a preprocesar los datos** para aplicar una limpieza básica a los textos. Para eso, aplicaremos una función `preprocess_text` que:\n",
    "- Pase el texto a minúsculas\n",
    "- Elimine puntuación innecesaria, pero conserve `.,!?¿¡`\n",
    "- Elimine espacios redundantes"
   ]
  },
  {
   "cell_type": "code",
   "execution_count": 33,
   "id": "5b66a993",
   "metadata": {},
   "outputs": [],
   "source": [
    "import re\n",
    "\n",
    "def preprocess_text(text):\n",
    "    \"\"\"Preprocesa el texto para limpieza básica\"\"\"\n",
    "    # Limpiar pero mantener puntuación básica\n",
    "    text = text.strip()\n",
    "    # Convertir a minúsculas\n",
    "    text = text.lower()\n",
    "    # Remover puntuación excesiva pero mantener puntos y comas\n",
    "    text = re.sub(r'[^\\w\\s]', '', text)\n",
    "    # Remover espacios extra\n",
    "    text = ' '.join(text.split())\n",
    "    return text"
   ]
  },
  {
   "cell_type": "code",
   "execution_count": 34,
   "id": "7a754574",
   "metadata": {},
   "outputs": [
    {
     "name": "stdout",
     "output_type": "stream",
     "text": [
      "Total de pares: 960, 960\n",
      "\n",
      "Ejemplos:\n",
      "  EN: sisos depictions of land water center new gallery exhibition\n",
      "  ES: representaciones de la tierra y el agua de siso son el centro de una nueva exposición\n",
      "\n",
      "  EN: people swimming in the swimming pool from 2022 is one vicente siso artwork that will display at tierra del sol gallery beginning jan 13 photo courtesy of vicente siso\n",
      "  ES: gente nadando en la alberca 2022 es una de las obras de vicente siso que se expondrán en la galería tierra del sol a partir del 13 de enero foto cortesía de vicente siso\n",
      "\n",
      "  EN: tierra del sol is pleased to present vicente siso memories of the land and water at the new gallery location in west hollywood siso has been an artist in the studio arts program since 2012 this marks his debut solo exhibition siso was born 1962 in madrid and raised between venezuela trinidad and miami he moved with his family to southern california in his early 20s\n",
      "  ES: tierra del sol se complace en presentar vicente siso recuerdos de la tierra y el agua en la nueva ubicación de la galería en west hollywood siso es un artista del studio arts program desde 2012 y esta exposición marca su debut como solista nacido en madrid en 1962 creció alternando entre venezuela trinidad y miami con unos 20 años se mudó con su familia al sur de california\n",
      "\n",
      "  EN: masterfully working across subject matter siso has generated a prolific series of landscapes portraits and stilllife works rendered in either acrylic pastel pencil or watercolor drawing from family portraits his own reference photographs and recollection his colorful compositions demonstrate his range of interests and skill across media sisos tropical landscapes and seascapes reflect the geographies of his past employing rich patterns and incorporating people to make meaningful connections between culture memory and the environment siso titles his artworks in a mix of spanish and english signifying the celebrated and integral complexities of his life in los angeles county vicente siso memories of the land and water opens on saturday jan 13 with a reception from 68 pm the exhibition is on view through sunday march 3\n",
      "  ES: trabajando con maestría diversas temáticas siso ha creado una prolífica serie de paisajes retratos y naturalezas muertas en acrílico pastel lápiz y acuarela a partir de retratos familiares de sus propias fotografías referenciales y de sus recuerdos sus coloridas composiciones demuestran una gran amplitud de intereses y habilidad con los distintos medios los paisajes tropicales y marinos de siso reflejan las geografías de su pasado empleando ricos patrones e incorporando personas para crear conexiones significativas entre la cultura la memoria y el medio ambiente siso da título a sus obras en una mezcla de español e inglés evidenciando la notoria complejidad integral de su vida en el condado de los ángeles vicente siso recuerdos de la tierra y el agua abre al público el sábado 13 de enero con una recepción de 6 a 8 pm la exposición permanecerá abierta hasta el domingo 3 de marzo inclusive\n",
      "\n",
      "  EN: the tierra del sol gallery is located at 7414 santa monica blvd for information visit tierradelsolgalleryorg\n",
      "  ES: la galería tierra del sol se encuentra en el 7414 de santa mónica blvd para más información visita tierradelsolgalleryorg\n",
      "\n"
     ]
    }
   ],
   "source": [
    "# Preprocesar datos\n",
    "oraciones_en = [preprocess_text(sent) for sent in oraciones_en if sent.strip()]\n",
    "oraciones_es = [preprocess_text(sent) for sent in oraciones_es if sent.strip()]\n",
    "\n",
    "print(f\"Total de pares: {len(oraciones_en)}, {len(oraciones_es)}\")\n",
    "print(\"\\nEjemplos:\")\n",
    "for i in range(min(5, len(oraciones_en))):\n",
    "    print(f\"  EN: {oraciones_en[i]}\")\n",
    "    print(f\"  ES: {oraciones_es[i]}\")\n",
    "    print()\n"
   ]
  },
  {
   "cell_type": "markdown",
   "id": "93ad6f1a",
   "metadata": {},
   "source": [
    "Para terminar, **quedándonos con los conjuntos de entrenamiento y validación**, vamos a dividir los pares de oraciones utilizando `train_test_split` de `sklearn`.\n",
    "\n",
    "📌 Separamos un 80 % para entrenamiento y un 20 % para validación. Usamos `random_state=42` para asegurar reproducibilidad.\n",
    "\n",
    "💡 Si lo desean, pueden experimentar con otras formas de dividir al conjunto."
   ]
  },
  {
   "cell_type": "code",
   "execution_count": 35,
   "id": "242955b0",
   "metadata": {},
   "outputs": [
    {
     "name": "stdout",
     "output_type": "stream",
     "text": [
      "Entrenamiento: 768 pares\n",
      "Validación: 192 pares\n"
     ]
    }
   ],
   "source": [
    "from sklearn.model_selection import train_test_split\n",
    "\n",
    "train_eng, val_eng, train_esp, val_esp = train_test_split(\n",
    "    oraciones_en, oraciones_es, test_size=0.2, random_state=28\n",
    ")\n",
    "\n",
    "print(f\"Entrenamiento: {len(train_eng)} pares\")\n",
    "print(f\"Validación: {len(val_eng)} pares\")"
   ]
  },
  {
   "cell_type": "markdown",
   "id": "c6a3b7c4",
   "metadata": {},
   "source": [
    "### 2. Construcción de Vocabularios\n",
    "\n",
    "Antes de entrenar nuestro modelo, necesitamos convertir las oraciones en secuencias de números. Para eso, vamos a construir un **vocabulario para cada idioma** (inglés y español), que asigne un índice único a cada palabra.\n",
    "\n",
    "💡 También incluimos **tokens especiales**:\n",
    "- `SOS`: indica el inicio de una oración,\n",
    "- `EOS`: indica el final,\n",
    "- `PAD`: se usará para rellenar oraciones cortas hasta una longitud uniforme.\n",
    "\n",
    "Cada oración del conjunto de entrenamiento se usa para agregar palabras al vocabulario correspondiente. De esta forma, el modelo solo trabajará con palabras que haya visto durante el entrenamiento.\n",
    "\n",
    "Implementar una clase `Vocabulario` que:\n",
    "- Guarde los mapeos palabra–índice y viceversa,\n",
    "- Mantenga un contador de palabras,\n",
    "- Tenga métodos para agregar palabras y oraciones.\n",
    "\n",
    "Una vez implementada, usala para construir los vocabularios con los datos de entrenamiento."
   ]
  },
  {
   "cell_type": "code",
   "execution_count": 36,
   "id": "b7e46caf",
   "metadata": {},
   "outputs": [],
   "source": [
    "class Vocabulario:\n",
    "    def __init__(self, name):\n",
    "        self.name = name\n",
    "        self.palab_idx = {'<SOS>': 0, '<EOS>': 1, '<PAD>': 2, '<UNK>': 3}\n",
    "        self.ind_palab = ['<SOS>', '<EOS>', '<PAD>', '<UNK>']\n",
    "        self.n = len(self.ind_palab)\n",
    "\n",
    "    def add_palabra(self, palabra):\n",
    "        self.palab_idx[palabra] = self.n\n",
    "        self.ind_palab.append(palabra)\n",
    "        self.n += 1\n",
    "\n",
    "    def add_sentence(self, sentence):\n",
    "        for palabra in sentence.split():\n",
    "            if not palabra in self.ind_palab:\n",
    "                self.add_palabra(palabra)\n",
    "                \n",
    "    def n_words(self):\n",
    "        return self.n\n",
    "    \n",
    "    def get_palabra(self, idx):\n",
    "        if idx < self.n:\n",
    "            return self.ind_palab[idx]\n",
    "        else:\n",
    "            return '<UNK>'\n",
    "    \n",
    "    def get_index(self, palabra):\n",
    "        if palabra in self.ind_palab:\n",
    "            return self.palab_idx[palabra]\n",
    "        else:\n",
    "            return 3"
   ]
  },
  {
   "cell_type": "code",
   "execution_count": 37,
   "id": "ce387ded",
   "metadata": {},
   "outputs": [
    {
     "name": "stdout",
     "output_type": "stream",
     "text": [
      "Vocabulario inglés: <bound method Vocabulario.n_words of <__main__.Vocabulario object at 0x0000021B739B5F40>> palabras\n",
      "Vocabulario español: <bound method Vocabulario.n_words of <__main__.Vocabulario object at 0x0000021B739B7FE0>> palabras\n"
     ]
    }
   ],
   "source": [
    "# Crear vocabularios\n",
    "input_vocab = Vocabulario('english')\n",
    "output_vocab = Vocabulario('spanish')\n",
    "\n",
    "# Construir vocabularios con datos de entrenamiento\n",
    "for sentence in train_eng:\n",
    "    input_vocab.add_sentence(sentence)\n",
    "\n",
    "for sentence in train_esp:\n",
    "    output_vocab.add_sentence(sentence)\n",
    "\n",
    "print(f\"Vocabulario inglés: {input_vocab.n_words} palabras\")\n",
    "print(f\"Vocabulario español: {output_vocab.n_words} palabras\")"
   ]
  },
  {
   "cell_type": "markdown",
   "id": "839d2bf2",
   "metadata": {},
   "source": [
    "### 3. Preparación de los Datos para el Modelo\n",
    "\n",
    "Hasta ahora construimos los vocabularios que nos permiten transformar palabras a índices y viceversa.\n",
    "\n",
    "El siguiente paso es convertir las oraciones a secuencias numéricas que pueda procesar el modelo.\n",
    "\n",
    "### Tareas para implementar\n",
    "\n",
    "1. **Función `sentence_to_indexes(vocab, sentence)`**\n",
    "\n",
    "   - Recibe un vocabulario y una oración en formato texto.\n",
    "   - Devuelve una lista de índices donde cada palabra de la oración es reemplazada por su índice correspondiente en el vocabulario.\n",
    "   - Si una palabra no está en el vocabulario, se debe asignar el índice de un token especial para palabras desconocidas (ejemplo: `<UNK>`).\n",
    "   \n",
    "2. **Función `indexes_to_tensor(indexes)`**\n",
    "\n",
    "   - Recibe una lista de índices.\n",
    "   - Devuelve un tensor de PyTorch de tipo `long` y con la forma esperada para ingresar al modelo.\n",
    "\n",
    "### Consideraciones\n",
    "\n",
    "- La función `sentence_to_indexes` debe manejar el caso de palabras desconocidas de forma adecuada.\n",
    "- La función `indexes_to_tensor` debe colocar los datos en el dispositivo correcto (CPU o GPU) si es necesario.\n",
    "\n",
    "---\n",
    "\n",
    "Estas funciones son clave para transformar nuestros datos en el formato adecuado y poder crear luego un `Dataset` y `DataLoader` que alimenten el modelo durante el entrenamiento.\n",
    "\n",
    "- Recordar que al final de cada secuencia hay agregar un token especial de fin de oración (`EOS_token`), para que el modelo sepa cuándo terminar. En nuestro caso, se hace en la creación del dataset (`TranslationDataset`).\n"
   ]
  },
  {
   "cell_type": "code",
   "execution_count": 38,
   "id": "37a2d050",
   "metadata": {},
   "outputs": [],
   "source": [
    "def sentence_to_indexes(vocab, sentence):\n",
    "    res = [vocab.get_index('<SOS>')]\n",
    "    \n",
    "    for palabra in sentence.split():\n",
    "        res.append(vocab.get_index(palabra))\n",
    "\n",
    "    res.append(vocab.get_index('<EOS>'))\n",
    "    return res\n",
    "\n",
    "def indexes_to_sentence(vocab, indexs):\n",
    "    sentence = ''\n",
    "    for idx in indexs:\n",
    "        sentence += vocab.get_palabra(idx) + ' '\n",
    "\n",
    "    return sentence[:-1]\n",
    "\n",
    "def indexes_to_tensor(indexes):\n",
    "    \"\"\"Convierte índices a tensor\"\"\"\n",
    "    return torch.tensor(indexes, device=device)"
   ]
  },
  {
   "cell_type": "code",
   "execution_count": 39,
   "id": "5487b9ee",
   "metadata": {},
   "outputs": [
    {
     "data": {
      "text/plain": [
       "'dispuesta a mitigar mi fatiga di unos sorbos al café que me había colocado delante el negocio sigue mal desde aquel avistamiento hablé en voz baja no quería espantar a los clientes que aún quedaban en la unidad de anton asintió con la cabeza mientras limpiaba un vaso con un trapo técnicamente este lugar es un bar pero la verdad es que nunca vine aquí por la bebida se escuchaban algunos murmullos por detrás pero en su mayor parte la conversación entre anton y yo fue más bien corta esta noche me despedí de él con un leve gesto y salí del bar con un poco más de energía que antes'"
      ]
     },
     "execution_count": 39,
     "metadata": {},
     "output_type": "execute_result"
    }
   ],
   "source": [
    "sentence = train_esp[0]\n",
    "sentence"
   ]
  },
  {
   "cell_type": "code",
   "execution_count": 40,
   "id": "2035e27c",
   "metadata": {},
   "outputs": [
    {
     "data": {
      "text/plain": [
       "[0,\n",
       " 4,\n",
       " 5,\n",
       " 6,\n",
       " 7,\n",
       " 8,\n",
       " 9,\n",
       " 10,\n",
       " 11,\n",
       " 12,\n",
       " 13,\n",
       " 14,\n",
       " 15,\n",
       " 16,\n",
       " 17,\n",
       " 18,\n",
       " 19,\n",
       " 20,\n",
       " 21,\n",
       " 22,\n",
       " 23,\n",
       " 24,\n",
       " 25,\n",
       " 26,\n",
       " 27,\n",
       " 28,\n",
       " 29,\n",
       " 30,\n",
       " 31,\n",
       " 32,\n",
       " 5,\n",
       " 33,\n",
       " 34,\n",
       " 14,\n",
       " 35,\n",
       " 36,\n",
       " 27,\n",
       " 37,\n",
       " 38,\n",
       " 39,\n",
       " 40,\n",
       " 41,\n",
       " 42,\n",
       " 37,\n",
       " 43,\n",
       " 44,\n",
       " 45,\n",
       " 46,\n",
       " 47,\n",
       " 42,\n",
       " 46,\n",
       " 48,\n",
       " 49,\n",
       " 50,\n",
       " 51,\n",
       " 52,\n",
       " 46,\n",
       " 53,\n",
       " 54,\n",
       " 37,\n",
       " 55,\n",
       " 52,\n",
       " 14,\n",
       " 56,\n",
       " 57,\n",
       " 58,\n",
       " 59,\n",
       " 37,\n",
       " 60,\n",
       " 61,\n",
       " 62,\n",
       " 63,\n",
       " 64,\n",
       " 59,\n",
       " 65,\n",
       " 54,\n",
       " 27,\n",
       " 66,\n",
       " 67,\n",
       " 68,\n",
       " 37,\n",
       " 69,\n",
       " 70,\n",
       " 40,\n",
       " 71,\n",
       " 72,\n",
       " 73,\n",
       " 74,\n",
       " 75,\n",
       " 76,\n",
       " 77,\n",
       " 78,\n",
       " 15,\n",
       " 79,\n",
       " 39,\n",
       " 80,\n",
       " 42,\n",
       " 46,\n",
       " 81,\n",
       " 82,\n",
       " 71,\n",
       " 83,\n",
       " 84,\n",
       " 53,\n",
       " 42,\n",
       " 46,\n",
       " 85,\n",
       " 74,\n",
       " 39,\n",
       " 86,\n",
       " 14,\n",
       " 87,\n",
       " 1]"
      ]
     },
     "execution_count": 40,
     "metadata": {},
     "output_type": "execute_result"
    }
   ],
   "source": [
    "sentence_to_indexes(output_vocab, sentence)"
   ]
  },
  {
   "cell_type": "code",
   "execution_count": 41,
   "id": "5aec9d1e",
   "metadata": {},
   "outputs": [
    {
     "data": {
      "text/plain": [
       "'<SOS> dispuesta a mitigar mi fatiga di unos sorbos al café que me había colocado delante el negocio sigue mal desde aquel avistamiento hablé en voz baja no quería espantar a los clientes que aún quedaban en la unidad de anton asintió con la cabeza mientras limpiaba un vaso con un trapo técnicamente este lugar es un bar pero la verdad es que nunca vine aquí por la bebida se escuchaban algunos murmullos por detrás pero en su mayor parte la conversación entre anton y yo fue más bien corta esta noche me despedí de él con un leve gesto y salí del bar con un poco más de energía que antes <EOS>'"
      ]
     },
     "execution_count": 41,
     "metadata": {},
     "output_type": "execute_result"
    }
   ],
   "source": [
    "indexes_to_sentence(output_vocab, sentence_to_indexes(output_vocab, sentence))"
   ]
  },
  {
   "cell_type": "code",
   "execution_count": 42,
   "id": "bddd231e",
   "metadata": {},
   "outputs": [
    {
     "data": {
      "text/plain": [
       "tensor([ 0,  4,  5,  6,  7,  8,  9, 10, 11, 12, 13, 14, 15, 16, 17, 18, 19, 20,\n",
       "        21, 22, 23, 24, 25, 26, 27, 28, 29, 30, 31, 32,  5, 33, 34, 14, 35, 36,\n",
       "        27, 37, 38, 39, 40, 41, 42, 37, 43, 44, 45, 46, 47, 42, 46, 48, 49, 50,\n",
       "        51, 52, 46, 53, 54, 37, 55, 52, 14, 56, 57, 58, 59, 37, 60, 61, 62, 63,\n",
       "        64, 59, 65, 54, 27, 66, 67, 68, 37, 69, 70, 40, 71, 72, 73, 74, 75, 76,\n",
       "        77, 78, 15, 79, 39, 80, 42, 46, 81, 82, 71, 83, 84, 53, 42, 46, 85, 74,\n",
       "        39, 86, 14, 87,  1], device='cuda:0')"
      ]
     },
     "execution_count": 42,
     "metadata": {},
     "output_type": "execute_result"
    }
   ],
   "source": [
    "indexes_to_tensor(sentence_to_indexes(output_vocab, sentence))"
   ]
  },
  {
   "cell_type": "code",
   "execution_count": 43,
   "id": "2d9c58f2",
   "metadata": {},
   "outputs": [],
   "source": [
    "class TranslationDataset(Dataset):\n",
    "    def __init__(self, english_sentences, spanish_sentences, input_vocab, output_vocab):\n",
    "        self.pairs = list(zip(english_sentences, spanish_sentences))\n",
    "        self.input_vocab = input_vocab\n",
    "        self.output_vocab = output_vocab\n",
    "    \n",
    "    def __len__(self):\n",
    "        return len(self.pairs)\n",
    "    \n",
    "    def __getitem__(self, idx):\n",
    "        english_sentence, spanish_sentence = self.pairs[idx]\n",
    "        \n",
    "        # Convertir a índices\n",
    "        input_indexes = sentence_to_indexes(self.input_vocab, english_sentence)\n",
    "        target_indexes = sentence_to_indexes(self.output_vocab, spanish_sentence)\n",
    "        \n",
    "        return {\n",
    "            'input': torch.tensor(input_indexes, dtype=torch.long),\n",
    "            'target': torch.tensor(target_indexes, dtype=torch.long),\n",
    "            'input_length': len(input_indexes),\n",
    "            'target_length': len(target_indexes)\n",
    "        }\n",
    "\n",
    "# Crear datasets\n",
    "train_dataset = TranslationDataset(train_eng, train_esp, input_vocab, output_vocab)\n",
    "val_dataset = TranslationDataset(val_eng, val_esp, input_vocab, output_vocab)"
   ]
  },
  {
   "cell_type": "code",
   "execution_count": 44,
   "id": "2341216a",
   "metadata": {},
   "outputs": [
    {
     "data": {
      "text/plain": [
       "{'input': tensor([  0,  95,  96,  97,  98,  99, 100, 101,  15, 102, 103, 104, 105,   1]),\n",
       " 'target': tensor([  0,  77, 102, 103, 104,   5, 105,  19, 106, 107,  39, 108, 109,   1]),\n",
       " 'input_length': 14,\n",
       " 'target_length': 14}"
      ]
     },
     "execution_count": 44,
     "metadata": {},
     "output_type": "execute_result"
    }
   ],
   "source": [
    "train_dataset[2] # equival a train_dataset.__getitem__(2)"
   ]
  },
  {
   "cell_type": "markdown",
   "id": "e9532312",
   "metadata": {},
   "source": [
    "### 4. Construcción del Modelo\n",
    "\n",
    "Ahora que ya tenemos nuestros datos listos, es momento de construir el modelo de traducción automática.\n",
    "\n",
    "Vamos a trabajar con una arquitectura **Encoder-Decoder** basada en redes recurrentes (**LSTM**, por ejemplo).\n",
    "\n",
    "En esta implementación el decoder se alimentará únicamente de su **propia predicción anterior** en cada paso, incluso durante el entrenamiento.\n",
    "\n",
    "---\n",
    "\n",
    "🔧 Qué deben implementar\n",
    "\n",
    "1. Encoder\n",
    "\n",
    "El encoder debe:\n",
    "\n",
    "- Tener una capa de `nn.Embedding` para convertir índices en vectores densos.\n",
    "- Tener una `nn.LSTM` (o `nn.GRU`) que procese toda la secuencia de entrada.\n",
    "- Devolver el estado oculto (`hidden`, `cell`) final del LSTM."
   ]
  },
  {
   "cell_type": "code",
   "execution_count": 45,
   "id": "d3dfa641",
   "metadata": {},
   "outputs": [],
   "source": [
    "PAD_token = output_vocab.get_index('PAD')\n",
    "EOS_token = input_vocab.get_index('EOS')\n",
    "SOS_token = input_vocab.get_index('SOS')\n",
    "\n",
    "emb_dim = 256\n",
    "\n",
    "class Encoder(nn.Module):\n",
    "    def __init__(self, input_size, hidden_size):\n",
    "        super().__init__()\n",
    "        self.Embedding = nn.Embedding(num_embeddings=input_size, embedding_dim=emb_dim, padding_idx=PAD_token)\n",
    "        self.LSTM = nn.LSTM(input_size=emb_dim, hidden_size=hidden_size, batch_first=True)\n",
    "\n",
    "    def forward(self, input_seq):\n",
    "        '''\n",
    "        input_seq: (batch_size, seq_len_in)\n",
    "        '''\n",
    "        input_emb = self.Embedding(input_seq)\n",
    "        _, (hidden, cell) = self.LSTM(input_emb)\n",
    "        \n",
    "        return hidden, cell"
   ]
  },
  {
   "cell_type": "markdown",
   "id": "9f4cd347",
   "metadata": {},
   "source": [
    "2. Decoder\n",
    "\n",
    "El Decoder es el componente encargado de **generar la secuencia de salida palabra por palabra**, usando el estado oculto final del Encoder como punto de partida.\n",
    "\n",
    "Debe contener:\n",
    "\n",
    "- Una capa de `nn.Embedding` para transformar el token de entrada en un vector denso.\n",
    "- Una LSTM que recibe el embedding y produce el siguiente estado oculto.\n",
    "- Una capa `Linear` que proyecta el estado oculto a una distribución de probabilidad sobre el vocabulario.\n",
    "- Retornar la predicción y los nuevos estados (`hidden`, `cell`).\n"
   ]
  },
  {
   "cell_type": "code",
   "execution_count": 46,
   "id": "d1dc801a",
   "metadata": {},
   "outputs": [],
   "source": [
    "class Decoder(nn.Module):\n",
    "    def __init__(self, output_size, hidden_size):\n",
    "        super().__init__()\n",
    "        self.Embedding = nn.Embedding(num_embeddings=output_size,\n",
    "                                      embedding_dim=emb_dim, \n",
    "                                      padding_idx=PAD_token)\n",
    "        self.LSTM = nn.LSTM(input_size=emb_dim, \n",
    "                            hidden_size=hidden_size, \n",
    "                            batch_first=True)\n",
    "        self.Linear = nn.Linear(in_features=hidden_size,\n",
    "                                out_features=output_size)\n",
    "\n",
    "    def forward(self, input_token, hidden, cell):\n",
    "        '''\n",
    "        input_token: (batch_size, 1)\n",
    "        \n",
    "        input_emb: (batch_size, 1, 200)\n",
    "        out: (batch_size, 1, hidden_size)\n",
    "        output: (batch_size, ~5000)\n",
    "        '''\n",
    "        if input_token.dim() == 1:\n",
    "            input_token = input_token.unsqueeze(1) \n",
    "        \n",
    "        input_emb = self.Embedding(input_token)\n",
    "\n",
    "        out, (hidden, cell) = self.LSTM(input_emb, (hidden, cell))\n",
    "\n",
    "        output = self.Linear(out.squeeze(1))\n",
    "        \n",
    "        return output, hidden, cell"
   ]
  },
  {
   "cell_type": "markdown",
   "id": "df159325",
   "metadata": {},
   "source": [
    "3. Seq2Seq\n",
    "\n",
    "La clase `Seq2Seq` orquesta la traducción completa de una secuencia. Usa un `Encoder` para codificar la entrada y un `Decoder` para generar la salida paso a paso.\n",
    "\n",
    "#### La clase debe:\n",
    "\n",
    "1. Recibir una secuencia de entrada.\n",
    "2. Usar el encoder para obtener el estado oculto inicial.\n",
    "3. Inicializar el decoder con el token **SOS**.\n",
    "4. En cada paso del tiempo:\n",
    "   - Pasar el token actual al decoder.\n",
    "   - Guardar la predicción.\n",
    "   - Usar el token más probable como próximo input.\n",
    "5. Terminar cuando:\n",
    "   - Se haya generado una cantidad fija de pasos (por ejemplo, igual al largo del target).\n",
    "   - O se haya alcanzado un máximo predefinido (por ejemplo, 50 pasos)."
   ]
  },
  {
   "cell_type": "code",
   "execution_count": 47,
   "id": "2d8b239a",
   "metadata": {},
   "outputs": [],
   "source": [
    "class Seq2Seq(nn.Module):\n",
    "    def __init__(self, encoder, decoder):\n",
    "        super().__init__()\n",
    "        self.encoder = encoder\n",
    "        self.decoder = decoder\n",
    "  \n",
    "    def forward(self, input_seq, max_len, teacher_forcing_ratio=0.5):\n",
    "        '''\n",
    "        input_seq: (batch_size, seq_len_in)\n",
    "        token: (batch_size, 1)\n",
    "        out: (batch_size, ~5000)\n",
    "        output: (batch_size, seq_len_out, ~5000) \n",
    "        '''\n",
    "        hidden, cell = self.encoder.forward(input_seq)\n",
    "        \n",
    "        batch_size = input_seq.size(0)\n",
    "        vocab_size = self.decoder.Linear.out_features\n",
    "\n",
    "        token = torch.full((batch_size, 1), SOS_token, dtype=torch.long, device=device)\n",
    "        \n",
    "        outputs = torch.zeros(batch_size, max_len, vocab_size)\n",
    "\n",
    "        for t in range(max_len):\n",
    "            out, hidden, cell = self.decoder.forward(token, hidden, cell)\n",
    "\n",
    "            #out = F.softmax(out.float(), dim=1)\n",
    "            token = torch.argmax(out, dim=1, keepdim=True).to(device)\n",
    "\n",
    "            outputs[:, t, :] = out\n",
    "\n",
    "        return outputs"
   ]
  },
  {
   "cell_type": "code",
   "execution_count": 48,
   "id": "037ef3bb",
   "metadata": {},
   "outputs": [],
   "source": [
    "class Seq2Seq(nn.Module):\n",
    "    def __init__(self, encoder, decoder):\n",
    "        super().__init__()\n",
    "        self.encoder = encoder\n",
    "        self.decoder = decoder\n",
    "\n",
    "    def forward(self, input_seq, target_seq, max_len, teacher_forcing_ratio=0.5):\n",
    "        '''\n",
    "        input_seq: (batch_size, seq_len_in)\n",
    "        target_seq: (batch_size, seq_len_out) - Added for teacher forcing\n",
    "        token: (batch_size, 1)\n",
    "        out: (batch_size, ~5000)\n",
    "        output: (batch_size, seq_len_out, ~5000)\n",
    "        '''\n",
    "        hidden, cell = self.encoder.forward(input_seq)\n",
    "\n",
    "        batch_size = input_seq.size(0)\n",
    "        vocab_size = self.decoder.Linear.out_features\n",
    "\n",
    "        token = torch.full((batch_size, 1), SOS_token, dtype=torch.long, device=device)\n",
    "\n",
    "        outputs = torch.zeros(batch_size, max_len, vocab_size).to(device) # Move outputs to device\n",
    "\n",
    "        # Use teacher forcing\n",
    "        use_teacher_forcing = True if random.random() < teacher_forcing_ratio else False\n",
    "\n",
    "        for t in range(max_len):\n",
    "            out, hidden, cell = self.decoder.forward(token, hidden, cell)\n",
    "\n",
    "            best_guess = out.argmax(dim=1, keepdim=True)\n",
    "\n",
    "            if use_teacher_forcing and t < target_seq.size(1):\n",
    "                token = target_seq[:, t].unsqueeze(1)\n",
    "            else:\n",
    "                token = best_guess\n",
    "\n",
    "            outputs[:, t, :] = out\n",
    "\n",
    "        return outputs"
   ]
  },
  {
   "cell_type": "markdown",
   "id": "84454647",
   "metadata": {},
   "source": [
    "### 5. Inicialización y entrenamiento"
   ]
  },
  {
   "cell_type": "code",
   "execution_count": 49,
   "id": "221c04f0",
   "metadata": {},
   "outputs": [
    {
     "name": "stdout",
     "output_type": "stream",
     "text": [
      "Modelo creado con 5842564 parámetros\n"
     ]
    }
   ],
   "source": [
    "# Definimos hiperparámetros\n",
    "INPUT_DIM = input_vocab.n_words()      # tamaño del vocabulario de entrada\n",
    "OUTPUT_DIM = output_vocab.n_words()     # tamaño del vocabulario de salida\n",
    "HIDDEN_DIM = 256                 # tamaño del estado oculto\n",
    "MAX_LEN = 30                     # longitud máxima de la secuencia de salida\n",
    "NUM_EPOCHS = 80\n",
    "LEARNING_RATE = 0.001\n",
    "\n",
    "# Inicializar encoder, decoder y modelo Seq2Seq\n",
    "encoder = Encoder(INPUT_DIM, HIDDEN_DIM).to(device)\n",
    "decoder = Decoder(OUTPUT_DIM, HIDDEN_DIM).to(device)\n",
    "\n",
    "model = Seq2Seq(encoder, decoder).to(device)\n",
    "\n",
    "# Función de pérdida y optimizador\n",
    "criterion = nn.CrossEntropyLoss(ignore_index=PAD_token)\n",
    "optimizer = torch.optim.Adam(model.parameters(), lr=LEARNING_RATE)\n",
    "print(f\"Modelo creado con {sum(p.numel() for p in model.parameters())} parámetros\")"
   ]
  },
  {
   "cell_type": "code",
   "execution_count": 50,
   "id": "d6b7009d",
   "metadata": {},
   "outputs": [],
   "source": [
    "#### Funciones auxiliares #####\n",
    "\n",
    "def collate_fn(batch):\n",
    "    input_seqs = [item['input'] for item in batch]\n",
    "    target_seqs = [item['target'] for item in batch]\n",
    "\n",
    "    # Padding\n",
    "    input_seqs = nn.utils.rnn.pad_sequence(input_seqs, batch_first=True, padding_value=PAD_token)\n",
    "    target_seqs = nn.utils.rnn.pad_sequence(target_seqs, batch_first=True, padding_value=PAD_token)\n",
    "\n",
    "    # Truncar o padear target_seqs a max_len\n",
    "    if target_seqs.size(1) > MAX_LEN:\n",
    "        target_seqs = target_seqs[:, :MAX_LEN]\n",
    "    elif target_seqs.size(1) < MAX_LEN:\n",
    "        pad_size = MAX_LEN - target_seqs.size(1)\n",
    "        padding = torch.full((target_seqs.size(0), pad_size), PAD_token, dtype=torch.long).to(target_seqs.device)\n",
    "        target_seqs = torch.cat([target_seqs, padding], dim=1)\n",
    "\n",
    "    return input_seqs.to(device), target_seqs.to(device)\n",
    "\n",
    "def evaluate_model(model, dataloader, criterion):\n",
    "    \"\"\"Evalúa el modelo en el conjunto de validación\"\"\"\n",
    "    model.eval()\n",
    "    total_loss = 0\n",
    "    \n",
    "    with torch.no_grad():\n",
    "        for input_seq, target_seq in dataloader:\n",
    "            #\n",
    "            input_seq = input_seq.to(device)\n",
    "            target_seq = target_seq.to(device)\n",
    "            #\n",
    "            output = model(input_seq=input_seq, target_seq=target_seq, max_len=MAX_LEN, teacher_forcing_ratio=0.0)\n",
    "\n",
    "            output = output.reshape(-1, output.size(-1))\n",
    "            target_seq = target_seq.reshape(-1)\n",
    "            \n",
    "            loss = criterion(output.to(device), target_seq.to(device))\n",
    "            total_loss += loss.item()\n",
    "    \n",
    "    return total_loss / len(dataloader)\n",
    "\n",
    "def train_epoch(model, dataloader, optimizer, criterion):\n",
    "    \"\"\"Entrena el modelo en un epoch\"\"\"\n",
    "    model.train()\n",
    "    total_loss = 0\n",
    "    \n",
    "    for batch_idx, (input_seq, target_seq) in enumerate(dataloader):\n",
    "        #\n",
    "        input_seq = input_seq.to(device)\n",
    "        target_seq = target_seq.to(device)\n",
    "        #\n",
    "        \n",
    "        optimizer.zero_grad()\n",
    "        # Forward pass\n",
    "        output = model(input_seq, target_seq, MAX_LEN, teacher_forcing_ratio=0.5)\n",
    "        # Calcular pérdida\n",
    "        # Reshape para calcular cross entropy\n",
    "        output = output.reshape(-1, output.size(-1))\n",
    "        target_seq = target_seq.reshape(-1)\n",
    "\n",
    "        loss = criterion(output.to(device), target_seq.to(device))\n",
    "        \n",
    "        # Backward pass\n",
    "        loss.backward()\n",
    "        \n",
    "        # Gradient clipping para evitar exploding gradients\n",
    "        torch.nn.utils.clip_grad_norm_(model.parameters(), max_norm=1.0)\n",
    "        \n",
    "        optimizer.step()\n",
    "        total_loss += loss.item()\n",
    "    \n",
    "    return total_loss / len(dataloader)\n"
   ]
  },
  {
   "cell_type": "code",
   "execution_count": 51,
   "id": "dd35fa00",
   "metadata": {},
   "outputs": [
    {
     "name": "stdout",
     "output_type": "stream",
     "text": [
      "Iniciando entrenamiento...\n",
      "--------------------------------------------------\n",
      "Época 10/80\n",
      "  Pérdida Entrenamiento: 5.1551\n",
      "  Pérdida Validación: 6.1941\n",
      "  Empeorando\n",
      "Época 20/80\n",
      "  Pérdida Entrenamiento: 3.9720\n",
      "  Pérdida Validación: 6.3437\n",
      "  Empeorando\n",
      "Época 30/80\n",
      "  Pérdida Entrenamiento: 3.8280\n",
      "  Pérdida Validación: 6.5037\n",
      "  Empeorando\n",
      "Época 40/80\n",
      "  Pérdida Entrenamiento: 2.9536\n",
      "  Pérdida Validación: 7.3922\n",
      "  Empeorando\n",
      "Época 50/80\n",
      "  Pérdida Entrenamiento: 2.5695\n",
      "  Pérdida Validación: 7.5287\n",
      "  Empeorando\n",
      "Época 60/80\n",
      "  Pérdida Entrenamiento: 0.7363\n",
      "  Pérdida Validación: 8.3889\n",
      "  Empeorando\n",
      "Época 70/80\n",
      "  Pérdida Entrenamiento: 0.0790\n",
      "  Pérdida Validación: 9.7519\n",
      "  Empeorando\n",
      "Época 80/80\n",
      "  Pérdida Entrenamiento: 0.0205\n",
      "  Pérdida Validación: 10.4042\n",
      "  Empeorando\n",
      "Entrenamiento completado!\n"
     ]
    }
   ],
   "source": [
    "#### Entrenamiento del modelo #####\n",
    "\n",
    "# DataLoaders\n",
    "train_dataloader = DataLoader(train_dataset, batch_size=8, shuffle=True, collate_fn=collate_fn)\n",
    "val_dataloader = DataLoader(val_dataset, batch_size=8, shuffle=False, collate_fn=collate_fn)\n",
    "\n",
    "train_losses = []\n",
    "val_losses = []\n",
    "\n",
    "print(\"Iniciando entrenamiento...\")\n",
    "print(\"-\" * 50)\n",
    "\n",
    "for epoch in range(NUM_EPOCHS):\n",
    "    # Entrenamiento\n",
    "    train_loss = train_epoch(model, train_dataloader, optimizer, criterion)\n",
    "    train_losses.append(train_loss)\n",
    "    \n",
    "    # Validación\n",
    "    val_loss = evaluate_model(model, val_dataloader, criterion)\n",
    "    val_losses.append(val_loss)\n",
    "    \n",
    "    if (epoch + 1) % 10 == 0:\n",
    "        print(f'Época {epoch+1}/{NUM_EPOCHS}')\n",
    "        print(f'  Pérdida Entrenamiento: {train_loss:.4f}')\n",
    "        print(f'  Pérdida Validación: {val_loss:.4f}')\n",
    "        print(f'  {\"Mejorando\" if val_loss < min(val_losses[:-1] + [float(\"inf\")]) else \"Empeorando\"}')\n",
    "\n",
    "print(\"Entrenamiento completado!\")"
   ]
  },
  {
   "cell_type": "code",
   "execution_count": 56,
   "id": "3aa9aa73",
   "metadata": {},
   "outputs": [
    {
     "data": {
      "image/png": "[encoded data removed]",
      "text/plain": [
       "<Figure size 640x480 with 1 Axes>"
      ]
     },
     "metadata": {},
     "output_type": "display_data"
    }
   ],
   "source": [
    "plt.plot(train_losses, label='Train Loss')\n",
    "plt.plot(val_losses, label='Validation Loss')\n",
    "plt.xlabel('Epoch')\n",
    "plt.ylabel('Loss')\n",
    "plt.title('Train and Validation Losses')\n",
    "plt.legend()\n",
    "plt.grid(True)\n",
    "plt.show()"
   ]
  },
  {
   "cell_type": "markdown",
   "id": "94c21035",
   "metadata": {},
   "source": [
    "### 6. Evaluación y predicción"
   ]
  },
  {
   "cell_type": "code",
   "execution_count": 53,
   "id": "6ddcf6f6",
   "metadata": {},
   "outputs": [],
   "source": [
    "def translate(model, sentence, input_vocab, output_vocab, max_length=MAX_LEN):\n",
    "    \"\"\"Traduce una oración usando el modelo entrenado\"\"\"\n",
    "    model.eval()\n",
    "    with torch.no_grad():\n",
    "        # Convertir oración a tensor\n",
    "        input_indexes = sentence_to_indexes(input_vocab, sentence)\n",
    "        input_indexes.append(EOS_token)\n",
    "        input_tensor = torch.tensor(input_indexes, dtype=torch.long).unsqueeze(0).to(device)\n",
    "        \n",
    "        # Codificar\n",
    "        hidden, cell = model.encoder(input_tensor)\n",
    "        \n",
    "        # Decodificar\n",
    "        decoder_input = torch.tensor([[SOS_token]], dtype=torch.long).to(device)\n",
    "        decoded_words = []\n",
    "        \n",
    "        for _ in range(max_length):\n",
    "            output, hidden, cell = model.decoder(decoder_input, hidden, cell)\n",
    "            predicted_id = output.argmax(dim=-1).item()\n",
    "            \n",
    "            if predicted_id == EOS_token:\n",
    "                decoded_words.append(output_vocab.get_palabra(predicted_id))\n",
    "                break\n",
    "            \n",
    "            decoded_words.append(output_vocab.get_palabra(predicted_id))\n",
    "            decoder_input = torch.tensor([[predicted_id]], dtype=torch.long).to(device)\n",
    "        \n",
    "        return ' '.join(decoded_words)"
   ]
  },
  {
   "cell_type": "code",
   "execution_count": 59,
   "id": "c1373322",
   "metadata": {},
   "outputs": [
    {
     "name": "stdout",
     "output_type": "stream",
     "text": [
      "\n",
      "============================================================\n",
      "RESULTADOS DE TRADUCCIÓN\n",
      "============================================================\n",
      "Inglés:     ready to fix my fatigue i took a few sips of the coffee placed in front of me business still down since that sighting i spoke quietly not attempting to scare away the remaining customers that antons unit had he nodded cleaning a glass with a rag this place is technically a bar but i never really came for drinks a few murmurs could be heard from behind but for the most part the conversation between me and anton was held rather short tonight waving him a small goodbye i left the shop with a little more energy than before\n",
      "Predicción: <SOS> dispuesta a mitigar mi fatiga di unos sorbos al café que me había colocado delante el negocio sigue mal desde aquel avistamiento hablé en voz baja no quería espantar\n",
      "Correcto:   dispuesta a mitigar mi fatiga di unos sorbos al café que me había colocado delante el negocio sigue mal desde aquel avistamiento hablé en voz baja no quería espantar a los clientes que aún quedaban en la unidad de anton asintió con la cabeza mientras limpiaba un vaso con un trapo técnicamente este lugar es un bar pero la verdad es que nunca vine aquí por la bebida se escuchaban algunos murmullos por detrás pero en su mayor parte la conversación entre anton y yo fue más bien corta esta noche me despedí de él con un leve gesto y salí del bar con un poco más de energía que antes\n",
      "----------------------------------------\n",
      "Inglés:     complaints of russian language use in ukraine rise 30 rt russia former soviet union\n",
      "Predicción: <SOS> aumentan en un 30 las quejas por el uso del idioma ruso en ucrania rt news rusia y antigua unión soviética <EOS> <EOS> de un por de un jugador\n",
      "Correcto:   aumentan en un 30 las quejas por el uso del idioma ruso en ucrania rt news rusia y antigua unión soviética\n",
      "----------------------------------------\n",
      "Inglés:     move will also help transform land at the derelict gartshore works site\n",
      "Predicción: <SOS> esta expansión también ayudará a transformar el terreno abandonado de gartshore works <EOS> la <EOS> la de <EOS> de <EOS> de <EOS> de <EOS> de <EOS> de <EOS> de\n",
      "Correcto:   esta expansión también ayudará a transformar el terreno abandonado de gartshore works\n",
      "----------------------------------------\n",
      "Inglés:     they are so not the books i would have picked up myself but once i did it is clear that the craft is definitely beyond reproach and i do like characters having long conversations superbly aware of their political roles and yet ignorant to their emotional needs part of growing up\n",
      "Predicción: <SOS> realmente no son los libros que yo hubiera elegido para mí pero una vez que lo hice está claro que su habilidad es definitivamente irreprochable y de verdad me\n",
      "Correcto:   realmente no son los libros que yo hubiera elegido para mí pero una vez que lo hice está claro que su habilidad es definitivamente irreprochable y de verdad me gustan los personajes que mantienen largas conversaciones muy conscientes de su papel político y sin embargo ignorantes de sus necesidades emocionales es parte de crecer\n",
      "----------------------------------------\n",
      "Inglés:     of course the sun is gonna be out while im away lol what a punk\n",
      "Predicción: <SOS> por supuesto el sol va a salir cuando yo no estoy jaja qué sinvergüenza <EOS> que es una de <EOS> de <EOS> de <EOS> de <EOS> de que una\n",
      "Correcto:   por supuesto el sol va a salir cuando yo no estoy jaja qué sinvergüenza\n",
      "----------------------------------------\n",
      "Inglés:     its 603 right now on this wednesday morning and we are following a tragic story this morning a teenager is dead after police found her body in an eastside ditch the gruesome discovery was made hours after her parents reported her missing saying she had left on a walk last night news 4s tawny davis is live this morning with more on the circumstances that may have led to her death and the police investigation good morning tawny\n",
      "Predicción: <SOS> son ahora mismo las 603 de la mañana de este miércoles y estamos reportando una trágica historia esta mañana el cuerpo de una adolescente muerta fue encontrado por la\n",
      "Correcto:   son ahora mismo las 603 de la mañana de este miércoles y estamos reportando una trágica historia esta mañana el cuerpo de una adolescente muerta fue encontrado por la policía en una zanja de la zona este este horrible hallazgo ocurrió horas después de que sus padres denunciaran su desaparición afirmando que salió a dar un paseo anoche tawny davis de news 4 se encuentra en directo esta mañana con más información sobre las circunstancias que pueden haber causado su muerte y la investigación policial buenos días tawny\n",
      "----------------------------------------\n",
      "Inglés:     live feed says that they have a signal\n",
      "Predicción: <SOS> este lo piloté a mano nada de piloto automático <EOS> <EOS> de te y una de de <EOS> de <EOS> de <EOS> de <EOS> de <EOS> de <EOS> de\n",
      "Correcto:   la transmisión en vivo dice que tienen señal\n",
      "----------------------------------------\n",
      "Inglés:     does this make sense would this be useful\n",
      "Predicción: <SOS> tiene sentido sería útil <EOS> la una de las habitaciones vacías de eirwen una vez hecho esto ordenó a la buena te atrapan así que el armazón tiene una\n",
      "Correcto:   tiene sentido sería útil\n",
      "----------------------------------------\n"
     ]
    }
   ],
   "source": [
    "# Probar con algunas oraciones del conjunto de validación\n",
    "test_sentences = train_eng[:8]\n",
    "\n",
    "print(\"\\n\" + \"=\"*60)\n",
    "print(\"RESULTADOS DE TRADUCCIÓN\")\n",
    "print(\"=\"*60)\n",
    "\n",
    "for i, sentence in enumerate(test_sentences):\n",
    "    translation = translate(model, sentence, input_vocab, output_vocab)\n",
    "    correct_translation = train_esp[i]  # Traducción correcta correspondiente\n",
    "    \n",
    "    print(f\"Inglés:     {sentence}\")\n",
    "    print(f\"Predicción: {translation}\")\n",
    "    print(f\"Correcto:   {correct_translation}\")\n",
    "    print(\"-\" * 40)\n"
   ]
  },
  {
   "cell_type": "markdown",
   "id": "30365637",
   "metadata": {},
   "source": [
    "### 7. Probamos el modelo"
   ]
  },
  {
   "cell_type": "code",
   "execution_count": 60,
   "id": "622023ab",
   "metadata": {},
   "outputs": [
    {
     "name": "stdout",
     "output_type": "stream",
     "text": [
      "\n",
      "Modo interactivo - Escribe 'quit' para salir\n",
      "Nota: Solo funcionará con palabras que están en el vocabulario de entrenamiento\n",
      "Vocabulario disponible: ['<UNK>', 'ready', 'to', 'fix', 'my', 'fatigue', 'i', 'took', 'a', 'few', 'sips', 'of', 'the', 'coffee', 'placed', 'in', 'front', 'me', 'business', 'still', 'down', 'since', 'that', 'sighting', 'spoke', 'quietly', 'not', 'attempting', 'scare', 'away', 'remaining', 'customers', 'antons', 'unit', 'had', 'he', 'nodded', 'cleaning', 'glass', 'with', 'rag', 'this', 'place', 'is', 'technically', 'bar', 'but', 'never', 'really', 'came', 'for', 'drinks', 'murmurs', 'could', 'be', 'heard', 'from', 'behind', 'most', 'part', 'conversation', 'between', 'and', 'anton', 'was', 'held', 'rather', 'short', 'tonight', 'waving', 'him', 'small', 'goodbye', 'left', 'shop', 'little', 'more', 'energy', 'than', 'before', 'complaints', 'russian', 'language', 'use', 'ukraine', 'rise', '30', 'rt', 'russia', 'former', 'soviet', 'union', 'move', 'will', 'also', 'help', 'transform', 'land', 'at', 'derelict', 'gartshore', 'works', 'site', 'they', 'are', 'so', 'books', 'would', 'have', 'picked', 'up', 'myself', 'once', 'did', 'it', 'clear', 'craft', 'definitely', 'beyond', 'reproach', 'do', 'like', 'characters', 'having', 'long', 'conversations', 'superbly', 'aware', 'their', 'political', 'roles', 'yet', 'ignorant', 'emotional', 'needs', 'growing', 'course', 'sun', 'gonna', 'out', 'while', 'im', 'lol', 'what', 'punk', 'its', '603', 'right', 'now', 'on', 'wednesday', 'morning', 'we', 'following', 'tragic', 'story', 'teenager', 'dead', 'after', 'police', 'found', 'her', 'body', 'an', 'eastside', 'ditch', 'gruesome', 'discovery', 'made', 'hours', 'parents', 'reported', 'missing', 'saying', 'she', 'walk', 'last', 'night', 'news', '4s', 'tawny', 'davis', 'live', 'circumstances', 'may', 'led', 'death', 'investigation', 'good', 'feed', 'says', 'signal', 'does', 'make', 'sense', 'useful', 'quit', 'fb', 'removed', 'all', 'meta', 'pinterest', 'tracker', 'website', 'killed', 'private', 'whatsapp', 'account', 'user14', 'yeah', 'even', 'solitary', 'means', 'generally', 'shared', 'ends', 'if', 'event', 'them', 'only', 'upcoming', 'events', 'calendar', 'currently', 'or', 'finally', 'battery', 'managed', 'wiggle', 'wo', 'removing', 'screw', 'needed', 'need', 'dealing', 'tomorrow', 'mornings', 'task', 'sometimes', 'stickers', 'expressing', 'comparable', 'sentiment', 'twitter', 'analyst', 'development', 'management', 'consultant', 'barrister', 'iyabo', 'awokoya', 'conveyed', 'sympathy', 'suspended', 'minister', 'believed', 'might', 'innocent', 'mistake', 'driven', 'by', 'zealous', 'determination', 'accomplish', 'job', 'wife', 'grumpy', 'because', 'extraction', 'much', 'quicker', 'expected', 'sorry', 'maybe', 'your', 'genome', 'shouldnt', 'play', 'hard', 'get', 'document', 'crap', 'around', 'hour', 'one', 'new', 'recruits', 'cohren', 'remembered', 'his', 'name', 'being', 'orson', 'lieutenant', 'youve', 'been', 'here', 'start', 'war', 'were', 'again', 'ive', 'got', 'cancellation', 'take', 'two', 'stumpys', 'crowning', 'didnt', 'photograph', 'cell', 'charger', 'heres', 'picture', 'panel', 'you', 'say', 'seen', 'fresh', 'eighteen', 'year', 'old', 'yourself', 'dive', 'cover', 'as', 'soon', 'hear', 'gunshot', 'craith', 'stated', 'nope', 'aquilo', 'answered', 'back', 'smiling', 'crown', 'prince', 'who', 'gets', 'everything', 'wants', 'doesnt', 'know', 'word', 'am', 'about', 'similar', 'situation', 'making', 'list', 'accessibility', 'privacy', 'requirements', 'want', 'no', 'google', 'analytics', 'etc', 'investigating', 'how', 'using', 'standard', 'video', 'call', 'mean', 'lot', 'client', 'education', 'worth', 'think', 'must', 'recognize', 'government', 'peoples', 'republic', 'china', 'united', 'states', 'great', 'differences', 'future', 'find', 'way', 'see', 'can', 'without', 'enemies', 'gray', 'box', 'hangs', 'side', 'nesting', 'where', 'lives', 'disheartening', 'just', 'another', 'problem', 'solve', 'far', 'seem', 'solvable', 'expense', 'time', 'ice', 'king', 'ordered', 'royal', 'advisor', 'queens', 'daughter', 'eirwens', 'vacant', 'rooms', 'done', 'guards', 'bring', 'eirwen', 'execution', 'townspeople', 'prologue', 'smashing', 'our', 'bedroom', 'room', 'house', 'thats', 'nothing', 'quick', 'bit', 'decorating', 'moment', 'nyssi', 'work', 'happened', 'kayel', 'weird', 'shadow', 'powers', 'ones', 'rarely', 'used', 'considered', 'unholy', 'terrifying', 'those', 'any', 'sort', 'darkness', 'acting', 'pretty', 'surprised', 'well', '1', 'percent', 'cut', 'supposed', 'motivation', 'leverage', '12', 'separate', 'bills', 'massie', 'told', 'newsweek', 'oneyear', 'cr', 'argue', 'then', 'hit', 'tiny', 'bump', 'road', 'hopefully', 'everybodys', 'motivated', 'come', 'senses', 'whoa', 'hold', 'riot', 'daddy', 'when', 'going', 'able', 'afford', 'larger', 'car', 'youre', '10', 'years', 'older', 'marry', 'millionaire', 'baby', 'buggy', 'havent', 'finished', 'paying', 'either', 'fact', 'owe', 'payments', 'hospital', 'own', 'odd', 'cheater', 'family', 'considering', 'largely', 'broke', 'folks', 'roots', 'affairs', 'probably', 'mostly', 'homogenous', 'villages', 'towns', 'ethnic', 'ghettos', 'user34', 'irresistible', 'dental', 'takes', 'days', 'tongue', 'poking', 'stop', 'external', 'yesterday', 'feels', 'sec', 'rejected', 'applications', 'funds', 'however', 'us', 'court', 'appeals', 'district', 'columbia', 'ruled', 'against', 'secs', 'refusal', 'approve', 'application', 'grayscale', 'convert', 'derivative', 'fund', 'into', 'directly', 'bitcoin', 'calling', 'position', '2', 'template', 'slots', 'travelers', 'aircraft', 'model', 'isnt', 'deciding', 'factor', 'booking', 'flight', 'majority', 'boeing', '737', 'max', '9', 'jets', 'grounded', 'country', 'alaska', 'airlines', 'fuselage', 'blowout', 'jan', '6', 'some', 'prospective', 'passengers', 'tell', 'type', 'plane', 'theyll', 'which', 'models', 'safest', 'first', 'easy', 'enough', 'answer', 'second', 'complicated', 'amid', 'calls', 'resignation', 'over', 'abject', 'failure', 'snps', 'nhs', 'recovery', 'plan', 'matheson', 'heightened', 'winter', 'pressure', 'unique', 'scotland', 'instead', 'blame', 'westminster', 'attempted', 'defence', 'westminsters', 'bad', 'provided', 'comfort', 'legions', 'patients', 'forced', 'wait', 'end', 'pain', 'distress', 'commission', 'authorized', 'exchangetraded', 'etfs', 'invest', 'including', 'proposed', 'giants', 'such', 'blackrock', 'fidelity', 'smaller', 'financial', 'companies', 'planning', 'system', 'adapt', 'planners', 'suburban', 'councils', 'less', 'supportive', 'change', 'determinants', 'shape', 'suburbs', 'forward', 'independent', 'decisionmaking', 'championed', 'quality', 'design', 'fitted', 'below', 'tree', 'tops', 'incorporated', 'living', 'large', 'balconies', 'common', 'gardens', 'presented', 'friendly', 'appearance', 'role', 'current', 'nsw', 'architect', 'working', 'within', 'carefully', 'crafted', 'complying', 'code', 'transeuropa', 'festival', 'biannual', 'cultural', 'artistic', 'eventforumconference', 'brings', 'together', 'quite', 'different', 'formats', 'weve', 'doing', 'european', 'alternative', 'organization', 'experience', 'same', 'nomadic', 'always', 'city', 'ago', 'belgrade', 'outside', '2017', 'wanted', 'madrid', 'reasons', 'members', 'exodus', 'company', 'quickly', 'dispersed', '2nd', 'shocktrooper', 'division', 'army', 'originally', 'cohort', 'dagger', 'consolidated', 'cracked', 'felt', 'mixed', 'feelings', 'promoted', '1st', 'mainly', 'due', 'approved', 'listing', 'trading', 'certain', 'spot', 'etp', 'shares', 'today', 'endorse', 'chair', 'gary', 'gensler', 'said', 'statement', 'investors', 'should', 'remain', 'cautious', 'myriad', 'risks', 'associated', 'products', 'whose', 'value', 'tied', 'crypto', 'complaint', 'cute', 'logbooks', 'black', 'boring', 'pink', 'salmon', 'encountered', 'facial', 'recognition', 'boarding', 'intl', 'houstons', 'iah', 'apparently', 'customsrelated', 'thing', 'couple', 'visits', 'saturdays', 'swansea', 'vector', 'rational', 'numbers', 'effort', 'defuse', 'tension', 'farmers', 'agreed', 'gradual', 'removal', 'diesel', 'subsidy', 'three', 'keeping', 'exemption', 'tax', 'poohpoohed', 'concessions', 'insufficient', 'january', '4th', 'aggressive', 'group', 'prevented', 'robert', 'habeck', 'economy', 'disembarking', 'ferry', 'return', 'holiday', 'train', 'drivers', 'similarly', 'unimpressed', 'prove', 'expensive', 'german', 'reckons', 'iw', 'köln', 'thinktank', 'rail', 'strike', 'cost', 'businesses', '100m', '110m', 'day', 'interrupt', 'production', 'chemical', 'steel', 'industries', 'germanys', 'biggest', 'especially', 'reliant', 'transport', '3', 'minutes', 'go', 'superbooth', 'berlin', 'attendee', 'very', 'curious', 'dcu', 'team', 'responds', 'game', 'best', 'forgotten', 'theyve', 'bright', 'games', 'happen', 'looked', 'completely', 'outclasses', 'went', 'mls', 'mastodonfc', 'wish', 'luck', 'success', 'bolting', 'seat', 'later', 'offline', 'ps', 'hire', 'sunday', 'cont', 'there', 'radish', 'mustard', 'lettuce', 'spinach', 'bok', 'choi', 'sure', 'camera', 'sunset', 'oooh', 'thank', 'appreciate', 'oversight', 'benefit', 'incarcerated', 'people', 'force', 'recognized', 'office', 'partner', 'overburdened', 'jail', 'systems', 'provide', 'muchneeded', 'assistance', 'recommendations', 'smart', 'policies', 'promote', 'staff', 'safety', 'reduce', 'recidivism', 'flying', 'stopped', 'charging', 'light', 'has', 'already', 'nest', 'leeching', 'off', 'wifi', 'send', 'sentis', 'knoxx', 'watching', 'ridge', 'through', 'binocs', 'shouted', 'cerberuss', 'opened', 'unarmed', 'soldier', 'stepped', 'wearing', 'special', 'headset', 'orders', 'square', 'microphone', 'formally', 'known', 'sentinels', 'rushed', 'skinny', 'metallic', 'arms', 'legs', 'swung', 'sprint', 'armed', 'weapons', 'slung', 'escorted', 'cried', 'outrage', 'seeing', 'queen', 'nicest', 'crying', 'shouting', 'trying', 'attack', 'others', 'wondering', 'why', 'happening', 'basis', 'photographer', 'too', 'glad', 'read', 'thread', 'mentally', 'disapear', 'commercial', 'social', 'medias', 'free', 'mind', 'many', 'things', 'dont', 'let', 'snp', 'turn', 'health', 'service', 'crisis', 'normal', 'scotsman', 'comment', 'html', 'section', 'chase', 'feature', 'birds', 'user20', 'every', 'row', 'least', '28km', 'erg', 'water', 'week', 'weather', 'cooperate', 'user23', 'yes', 'idea', '7', 'streamed', 'sole', 'reason', 'user', 'view', 'possible', 'affecting', 'dom', 'order', 'browser', 'resulting', 'matches', 'visual', 'weekend', 'critics', 'blasted', 'random', 'supermarket', 'kaboom', 'heroes', 'super', 'kazoom', 'kids', 'fight', 'derived', 'itself', 'potent', 'source', 'ever', 'display', 'museum', 'admire', 'steal', 'dangerous', 'slip', 'negative', 'kazooms', 'coming', 'kari', 'tapped', 'twice', 'lantern', 'ivory', 'predicted', 'flaw', 'eyes', 'born', 'mute', 'girl', 'boys', 'shutdown', 'debate', 'fuels', 'republican', 'civil', 'burst', 'laughter', 'interrupted', 'thassalin', 'suddenly', 'overly', 'amused', 'laughing', 'calm', 'user11', 'inclusion', 'default', 'user13', 'world', 'relationships', 'fob', 'ianlos', 'sent', 'support', 'ground', 'assault', 'taking', 'drag', 'cigarette', 'half', 'blamed', 'getting', 'smoking', 'combat', 'anything', 'okay', 'explain', 'look', 'inside', 'wood', 'siding', 'theres', 'butts', 'shingles', 'put', 'happens', 'dirt', 'collects', 'flashing', 'tierra', 'del', 'sol', 'gallery', 'located', '7414', 'santa', 'monica', 'blvd', 'information', 'visit', 'tierradelsolgalleryorg', 'yay', 'floor', 'sorted', 'tea', 'break', 'yup', 'responded', 'throat', 'mic', 'fisheye', 'overkill', 'running', 'selfemployed', 'introverted', 'creative', 'big', 'heart', 'feel', 'twist', 'online', 'resources', 'coaches', 'evil', 'tech', 'extrovert', 'techniques', 'advertise', 'follow', 'algorithm', 'share', 'personality', 'blue', 'tick', 'available', '247', 'inquiries', 'respond', 'immediately', 'splurging', 'set', 'frames', 'these', 'red', 'reeeeally', 'though', 'mention', 'recognise', 'internet', 'otherwise', 'ill', 'enjoying', 'kneadatite', 'green', 'stuff', 'sculpting', 'bubble', 'gum', 'tough', 'flexible', 'cures', 'grabbing', 'throwing', 'insanely', 'dextrous', 'tail', 'air', 'twowinged', 'creature', 'chased', 'absence', 'collective', 'consciousness', 'media', 'developed', 'level', 'class', 'helps', 'stay', 'critical', 'please', 'save', 'horror', 'absolute', 'rocket', 'stroud', 'perfect', 'goal', 'judging', 'state', 'hospitals', 'talk', 'plans', 'action', 'simply', 'allow', 'incompetent', 'politicians', 'lull', 'complicity', 'demise', 'british', 'institution', 'national', 'lander', 'size', 'uk', 'telephone', 'area', 'fine', 'based', 'expert', 'arguments', 'inferred', 'exists', 'discord', 'laws', 'federal', 'other', 'parastatals', 'escalated', 'leaked', 'became', 'public', 'betta', 'edu', 'emerging', 'scapegoat', 'dysfunctional', 'sweep', 'capping', 'cowling', 'safer', 'rooks', 'gps', 'coordinates', 'rounded', 'nearest', 'full', 'degree', 'absolutely', 'worthless', 'die', 'goes', 'lets', 'congressman', 'thomas', 'kentucky', 'partys', 'vocal', 'budget', 'hawks', 'among', 'protested', 'vote', 'yearlong', 'triggers', 'spending', 'feasible', 'keep', 'open', 'ending', 'ongoing', 'brinkmanship', 'exercise', 'looking', 'triathlon', 'athletes', 'better', 'benefits', 'lifethoughts', 'moods', 'productivityit', 'connected', 'breaks', 'desk', 'productive', 'birthday', 'asked', 'remembering', 'princess', 'sad', 'glint', 'ambitions', 'transitioning', 'circular', 'devolved', 'aggregates', 'accelerate', 'shift', 'virgin', 'pilottraining', 'teaganair', 'pa28', 'pilot', 'flightschool', 'both', 'titles', '12v', '10w', 'selling', 'economical', 'funfact', 'ping', 'integration', 'home', 'assistant', 'monitor', 'quiet', 'loud', 'thoughts', 'infecting', 'brain', 'booming', 'regret', 'stayed', 'flashed', 'multiple', 'times', 'arrived', 'almost', 'brought', 'tears', 'dreadful', 'sounds', 'clouds', 'above', 'thunderous', 'booms', 'frighten', 'person', 'dad', 'passed', 'couch', 'rerun', 'movie', '1012', 'sighing', 'crept', 'flopping', 'bed', 'wasnt', 'slumber', 'lens', 'tokeh', 'beach', 'resort', 'sierra', 'leone', 'cousins', 'lovely', 'chill', 'planned', 'oh', 'looks', 'wedding', 'reception', 'married', 'seems', 'engagement', 'beautiful', 'approached', 'wooden', 'pole', 'feared', 'kingdom', 'showed', 'fire', 'burned', 'nobody', 'deserved', 'criminals', 'cruel', 'frostfell', 'horrible', 'god', 'monster', 'helped', 'kill', 'tenuk', 'stuttered', 'millionplus', 'expansion', 'brewster', 'recycling', 'regenerating', 'near', 'cumbernauld', 'plant', 'serve', 'construction', 'sites', 'housing', 'utilities', 'developments', 'western', 'central', 'belt', 'livingston', 'employs', '39', 'continue', 'sustainable', 'waste', 'services', 'recycled', 'edinburgh', 'fife', 'lothians', 'longer', 'tried', 'retreat', 'himself', 'scraping', 'top', 'treeline', 'crashing', 'clearing', 'seemed', 'exactly', 'fallen', 'headed', 'straight', 'dark', 'cloud', 'starfire', 'tamaran', 'comfortable', 'hope', 'lord', 'bagrok', 'formidable', 'spirit', 'sister', 'wise', 'hand', 'garbler', 'neck', 'man', 'wrong', 'reviewing', 'memories', 'inquired', 'notebook', 'christmas', 'guess', 'laugh', 'shaw', 'walked', 'figure', 'starting', 'turned', 'electricity', 'garden', 'whole', 'powered', 'solar', '2600mah', '18650', 'changed', 'borked', 'retvik', 'drive', 'completed', 'cross', '50', 'nautical', 'miles', 'question', 'pedestal', 'parasocial', 'prominent', 'building', 'blocks', 'shaped', 'eu', 'debates', 'rules', 'limit', 'packaging', 'beer', 'producers', 'unfairly', 'discriminated', 'exemptions', 'winemakers', 'reuse', 'targets', 'depositreturn', 'schemes', 'europes', 'wine', 'industry', 'association', 'chiefs', 'brewers', 'garlic', 'soft', 'scrawnier', 'achieve', 'linked', 'section7', 'render', 'fast', 'reimplement', 'javascript', 'sections', 'shit', 'silently', 'voiced', 'lockpick', 'chains', 'wrapped', 'voices', 'closed', 'location', 'faint', 'footsteps', 'louder', 'vent', 'leave', 'meet', 'wont', 'hurriedly', 'flash', 'panic', 'face', 'nerves', 'listening', 'advice', 'couldnt', 'fuck', 'al', 'ran', 'exiting', 'hurt', 'lose', 'invaluable', 'friend', 'moving', 'theother', 'flicking', 'slightly', 'scattered', 'angry', 'id', 'numerous', 'kinds', 'research', 'outer', 'cities', 'capital', 'infected', 'alcatraz', 'named', 'prison', 'fit', 'unmutated', 'connecting', 'wastragic', 'shouldve', 'built', 'chicken', 'stole', 'stolen', 'farm', 'user47', 'nooooooooooooooooooo', 'recent', 'demonstrates', 'norms', 'mindsets', 'example', 'engaging', 'men', 'foster', 'buyin', 'gender', 'equality', 'consultative', 'draft', 'positive', 'outcomes', 'accelerated', 'scaled', 'understanding', 'everyday', 'expectations', 'priorities', 'practices', 'feeling', 'uncomfortable', 'identity', 'hi', 'check', 'calcom', 'opensource', 'integrations', 'scheduling', 'element', 'jitsi', 'tested', 'text', 'economic', 'forum', 'forecast', 'five', 'generations', 'nation', 'bank', 'rapidly', 'frame', 'door', 'expecting', 'sight', 'paint', 'splotches', 'everywhere', 'pencils', 'papers', 'across', 'easels', 'covering', 'inch', 'wall', 'unexpectedly', 'clean', 'velvet', 'background', 'stool', 'portrait', 'somewhat', 'sighed', 'ask', 'louis', '14th', 'descendents', 'anarchist', 'putting', 'rabbit', 'fence', 'sunk', 'inches', 'underground', 'expect', 'rabbits', 'banks', 'target', 'institutions', 'require', 'generational', 'shifts', 'taken', 'rwanda', 'decades', 'establish', 'reforms', 'boost', 'empowerment', 'womenno', 'women', 'president', 'paul', 'kagame', 'arguing', 'reform', '2015', 'try', 'saturday', 'monday', 'per', 'memo', 'dated', '20', 'december', '2023', 'directed', 'accountantgeneral', 'transfer', 'investment', 'bridget', 'oniyelu', 'accountant', 'poverty', 'intervention', 'project', 'called', 'grants', 'vulnerable', 'groups', 'under', 'mrs', 'edus', 'ministry', 'hallway', 'cork', 'underlay', 'brother', 'ripped', 'ride', 'boy', 'hefty', 'eh', 'ripoff', 'watch', 'step', 'slowly', 'opening', 'saw', 'unusual', 'standards', 'unexpected', 'broken', 'sculptures', 'windows', 'colder', 'rest', 'palace', 'snowstorm', 'blew', 'breaking', 'whenif', 'boxes', 'areas', 'further', 'europe', 'euronews', 'brief', 'legal', 'analysis', 'argues', 'competing', 'partially', 'substitutable', 'each', 'argued', 'favouring', 'distort', 'market', 'final', 'push', 'female', 'louisiana', 'avoid', 'confronting', 'issue', '19', 'deadline', 'pass', 'four', 'annual', 'johnson', 'publicly', 'continuing', 'resolution', 'extend', 'february', 'date', 'eight', 'washington', 'briefly', 'statewide', '198187', 'department', 'justice', 'trumpeted', 'unfortunately', 'legislature', 'eliminated', 'objections', 'administrators', 'rights', 'guys', 'listen', 'excited', 'comedy', '23', 'store', 'regular', 'comedian', 'disappointed', 'iranian', 'immigrant', 'mandatory', 'pause', 'manually', 'board', 'whatever', 'backstage', 'matter', 'show', 'lych', 'liked', 'writes', 'behindthescenes', 'traveling', 'atmosphere', 'food', 'life', 'speak', 'lunch', 'deep', 'scrambled', 'eggs', 'trick', 'add', 'extra', 'egg', 'yolk', 'hook', 'vacuum', 'dust', 'prep', 'concrete', 'prefer', 'grinders', 'ourself', 'usually', 'epoxy', 'coating', 'cracks', 'divots', 'patch', 'repair', 'material', 'grind', 'smooth', '100', 'solids', 'procedures', 'stages', 'scaring', 'bosses', 'yeeee', 'sensors', 'general', 'nice', '130000', 'booked', '2022', 'startlingly', 'occurs', 'responsible', 'monitoring', 'jails', 'reporting', 'data', 'relates', 'deaths', 'custody', 'transferred', 'mx', 'proton', 'spf', 'dkim', 'dmarc', 'pay', 'basic', 'email', 'validation', 'damn', 'rusty', 'k1100', 'single', 'seized', 'grab', 'international', 'poised', 'launch', 'strategy', 'aimed', 'significantly', 'advancing', 'opportunities', 'girls', '2030', 'focuses', 'improving', 'inclusivity', 'resilience', 'access', 'finance', 'technological', 'innovation', 'changes', 'policy', 'law', 'rural', 'african', 'communities', 'society', 'organizations', 'replacing', 'harmful', 'rite', 'passage', 'program', 'kamanda', 'timayio', 'leader', 'masai', 'village', 'maparasha', 'kenya', 'genital', 'mutilation', 'le', 'monde', 'emerged', 'ignorance', 'abandon', 'practice', 'user12', 'prioritize', 'referring', 'hate', 'lava', 'firetemple', 'user36', 'glasses', 'posted', 'colourmakes', 'hello', 'albany', 'busy', 'chief', 'operator', 'line', 'official', 'telling', 'truth', 'miss', 'kennedy', 'yous', 'dirken', 'grabbed', 'tore', 'dress', 'struggled', 'authentic', 'real', 'footage', 'true', 'giant', 'individual', 'japan', 'walking', 'military', 'parade', 'whats', 'shocking', 'actual', 'stature', '4', 'meters', 'high', 'minimum', '13', 'feet', 'thus', 'genuinely', 'taller', 'massive', 'original', 'nba', 'player', 'shaquille', 'oneal', 'brothers', 'wash', 'plants', 'cent', 'excavated', 'soils', 'rubble', 'process', 'highvalue', 'past', 'six', 'firms', 'west', 'lothian', '135', 'million', 'tonnes', 'demolition', 'excavation', 'landfill', 'created', 'sell', 'rob', 'marion', 'dressed', 'security', 'guard', 'create', 'healthcare', 'buyers', 'guide', 'thought', 'costume', 'character', 'issues', 'surrounding', 'network', 'point', 'doubt', 'ancestors', 'actually', 'case', 'effect', 'genetic', 'drift', 'sample', 'extensive', 'records', 'mom', 'son', 'hers', 'lifes', 'funny', 'next', 'roofing', 'contractors', 'mad', 'cannot', 'contractor', 'existing', 'roof', 'simple', 'peel', 'stick', 'hells', 'frontrunners', 'nemic', 'started', 'dry', 'sending', 'during', 'golden', 'age', 'pop', 'culture', 'wonder', '2024', 'peloton', 'apply', 'forgiveness', 'reading', 'conquerors', 'young', 'becoming', 'youngest', 'heavyweight', 'champion', 'mindset', 'affect', 'cool', 'learned', 'greatness', 'willingness', 'froth', 'antiwaste', 'flagrantly', 'lawless', 'burning', 'mountain', 'arrests', 'criminal', 'convictions', 'bankruptcies', 'lawsuits', 'scandals', 'losses', 'millions', 'investor', 'customer', 'victims', 'rescue', 'approving', 'trusted', 'familiar', 'vehicle', 'enable', 'mass', 'marketing', 'volatile', 'fraudfilled', 'product', 'main', 'street', 'americans', 'kelleher', 'user35', 'honestly', 'hopes', 'jokes', 'write', 'themselves', 'bird', 'flue', 'desiccated', 'advancement', 'humanity', 'ceased', 'momentduring', 'difficult', 'grow', 'prosperous', 'rising', 'ignniat', 'skyrocketed', 'peak', 'greatest', 'achieved', 'grace', 'newfound', 'knowledge', 'described', 'divine', 'gods', 'presence', 'everyone', 'karascene', 'evaluated', 'potential', 'mineral', 'worry', 'effects', 'downsides', 'mined', 'higher', 'chance', '2019', 'adopted', 'makes', 'ukrainian', 'obligatory', 'spheres', 'medicine', 'science', 'comply', 'result', 'fines', 'conflict', 'began', 'undertaken', 'campaign', 'total', 'derussification', 'mps', 'necessary', 'defend', 'influence', 'local', 'authorities', 'introduced', 'complete', 'bans', 'russianlanguage', 'art', 'performances', 'films', 'songs', 'study', 'schools', 'universities', 'recommended', 'schoolchildren', 'communicate', 'strangely', 'tooth', 'isolation', 'tape', 'halls', 'tune', 'whispers', 'maids', 'happy', 'tomb', 'unknown', 'monument', 'dedicated', 'servicemen', 'gave', 'defense', 'arlington', 'cemetery', 'virginia', 'attracting', 'visitors', 'stands', 'proudly', 'protected', 'soldiers', '3rd', 'infantry', 'regiment', 'april', '1948', 'carry', 'sacred', 'duty', 'guarded', '24', 'seven', '365', '77', 'admitted', 'ageold', 'delayed', 'discharge', 'often', 'care', 'major', 'claimed', 'implemented', 'pace', 'given', 'persistent', 'solution', 'lovelies', 'grunted', 'disappeared', 'returning', 'dropping', 'carcass', 'orothrack', 'rare', 'gold', 'white', 'draconic', 'head', 'cries', 'smell', 'blood', 'drawn', 'protect', 'hunt', 'yisini', 'demands', 'creatures', 'close', 'wipe', 'excess', 'powder', 'alcohol', 'paper', 'towel', 'cuticle', 'oil', 'truly', 'sensey', 'nails', 'love', 'obsessed', 'frequently', 'questions', 'nail', 'weeks', 'early', 'yall', 'hair', 'gotta', 'nubs', 'grip', 'jolt', 'shiver', 'enthrall', 'spine', 'apartment', 'ignoring', 'urged', 'towards', 'als', 'investigate', 'moved', 'someone', 'bartender', 'owes', 'something', 'liquid', 'oceans', 'fills', 'endless', 'depths', 'venture', 'ocean', 'vast', 'underwater', 'inhabitants', 'human', 'societies', 'brb', 'updating', 'padding', 'paragraphs', 'boss', 'months', 'standing', 'grave', 'cant', 'hes', 'gone', 'uniformed', 'theyre', 'bombing', 'conditions', 'report', 'witnessed', 'firsthand', 'concerns', 'collect', 'helping', 'policymakers', 'understand', 'advocate', 'datadriven', 'solutions', 'problems', 'relating', 'finding', 'shortly', 'obsessively', 'shows', 'movies', 'anchorman', 'oneline', 'references', 'memelike', 'fashion', 'pics', 'ended', 'flat', 'tire', 'landing', 'johnston', 'plaid', 'kilt', 'elders', 'ireland', 'surprises', 'arent', 'remember', 'resident', 'milla', 'jovovich', 'thinking', 'worse', 'simpler', '2021s', 'gasping', 'breath', 'welcome', 'raccoon', 'aka', 'hell', '6in', 'x', 'painting', 'canvas', 'initially', 'setup', 'points', 'replaced', 'fall', 'wouldnt', 'sir', 'rations', 'mess', '0500', 'sharp', 'assembled', 'motor', 'pool', 'onto', 'tutted', 'drew', 'rifle', 'pouch', 'revealing', 'bandolier', 'chest', 'realized', 'thraki', 'visible', 'waahoo', 'stumpy', 'crowned', 'hail', 'plasterer', 'lay', 'greggs', 'key', 'strengths', 'offering', 'lowervalue', 'treat', 'proposition', 'intact', 'consumer', 'incomes', 'stretched', 'important', 'volumes', 'trend', 'remains', 'jobs', 'progress', 'continues', 'digital', 'delivery', 'partnerships', 'expanding', 'estate', 'seconds', 'response', 'squad', 'leaders', 'haris', 'ravik', 'low', 'ranking', 'nco', 'friends', 'earth', 'met', 'leading', 'platoon', 'previous', 'gotten', 'medically', 'discharged', 'catching', 'bullet', 'daybreak', 'sniper', 'jakob', 'nielsens', 'allin', 'ai', 'melting', 'highstreet', 'bakery', 'chain', 'ahead', 'hike', 'prices', 'aiming', '160', 'branches', 'locations', 'centres', 'concentrating', 'chasing', 'awkwardly', 'giving', 'kayels', 'easier', 'aim', 'shots', 'wings', 'roared', 'disappearing', 'trees', 'whether', 'certainly', 'suck', 'imagine', 'awful', 'inner', 'documentary', 'film', 'shown', 'mr', 'alexander', 'kerensky', 'democratic', 'provisional', 'overthrown', 'communists', '1917', 'consented', 'introductory', 'remarks', 'present', '80yearold', 'york', 'october', '10th', '1962', 'superhero', 'power', 'control', 'virtual', 'training', 'vr', 'realistic', 'hey', 'test', 'weakling', 'att', 'status', 'claims', 'outageseven', 'outage', 'user7', 'give', 'badgers', 'womens', 'hockey', 'hahaha', 'filing', 'fun', 'surgery', 'honest', 'operation', 'physical', 'carbon', 'telemetry', 'revision', 'bought', 'xbox', 'series', 'pros', 'cons', 'choosing', 'hardware', 'controller', 'enjoy', 'nearby', 'basil', 'awoken', 'emergency', 'alert', 'foul', 'smelling', 'gas', 'blaze', 'spread', 'locals', 'homes', 'doors', 'although', 'lifted', 'smoke', 'nonfatal', 'heavily', 'polluted', 'douse', 'flames', 'cause', 'disaster', 'highly', 'toxic', 'mercury', 'compounds', 'fungicides', 'sea', 'dressings', 'warehouse', 'marked', 'fluorescent', 'dye', 'rhodamine', 'b', 'underestimated', 'lightly', 'joined', 'manpower', 'prepared', 'shoot', 'ufs', 'revenant', 'month', 'erebus', 'route', 'drunlk', 'wtf', 'universe', 'hotboxed', 'arugula', 'plastic', 'tray', 'seedlings', 'extraordinary', 'poignant', 'television', 'drama', 'itvs', 'bates', 'vs', 'post', 'election', 'inaction', 'falling', 'rishi', 'sunaks', 'approach', 'file', 'fucking', 'blech', 'pulling', 'insulation', 'heheh', 'kremen', 'confirmed', '3400', 'hryvnia', '89', 'imposed', 'kiev', 'taxi', 'driver', 'serviced', 'clients', 'ombudsman', 'reminded', 'detailed', 'actions', 'violation', 'receive', 'urging', 'commissioners', 'cases', 'occur', 'web', 'page', 'lots', 'eg', 'singlepage', 'spec', 'requests', 'specific', 'pagehtmlsection7', 'server', 'alright', 'vacuuming', 'sign', 'mighty', 'froze', 'attention', 'gap', 'staring', 'hissing', 'colossal', 'pairs', 'charged', 'caring', 'beings', 'herself', 'dragged', 'along', 'thrown', 'congress', 'individually', '1996', 'lawler', 'delaying', 'ensure', 'fiscal', 'responsibility', 'act', 'applied', 'nondefense', 'discretionary', 'miniatures', '4000ft', 'minute', 'poachers', 'cheyenne', 'kuyu', 'sold', 'congo', 'grew', 'semicaptivity', 'orphans', 'islands', 'chimpanzees', 'forest', 'associations', 'scientists', 'identify', 'mum', 'vfr', 'chart', 'trip', 'user31', 'hs', 'trig', 'lmao', 'relatively', 'slow', 'holler', 'heading', 'dinner', 'fridge', 'figures', 'hears', 'closing', 'breathy', 'sigh', 'escape', 'shut', 'nearly', 'forgetting', 'cold', 'scanner', 'locks', 'advanced', 'places', 'notable', 'technologyit', 'anyone', 'technology', 'apologetic', 'liking', 'novels', 'defending', 'average', 'vibe', 'aviation', 'tend', 'track', 'farily', 'conservative', 'ads', 'youtube', 'decided', 'videos', 'comments', 'user24', 'berrys', '3d', 'printed', 'pacifist', 'robot', 'legislation', '31', 'march', 'consultation', 'seeks', 'controls', 'rent', 'increases', 'levied', 'proposes', 'rents', 'lowest', 'comparators', 'landlords', 'reasonable', 'increase', 'devised', 'taper', 'comparison', 'percentage', 'affirming', 'transforming', 'ingredients', 'rich', 'complex', 'witnessing', 'birth', 'nok', '374', 'donald', 'trump', 'claim', 'immunity', 'prosecution', 'boris', 'illegally', 'parliament', 'facilitate', 'brexit', 'sunak', 'overturn', 'supreme', 'decision', 'safe', 'passing', 'scoring', 'ceiling', 'surveillance', 'mobile', 'device', 'watched', 'intently', 'cameras', 'tight', 'remote', 'argh', 'stood', 'angrily', 'remove', 'sliding', 'shoes', 'keys', 'dadsilence', 'anyway', 'user37', 'collection', 'consists', 'bluepurple', 'pinkish', 'lilac', 'pair', 'tempted', 'sunglasses', 'prescriptions', 'purpose', 'aviators', 'whim', 'according', 'commissioner', 'protection', '3692', 'violations', 'kharkov', 'odessa', 'terms', 'number', 'therefore', 'strict', 'observance', 'citizens', 'community', 'taras', 'countrys', 'choppy', 'stalls', 'speed', '16mph', 'airspeed', '65', 'sizes', 'brushes', 'split', 'north', 'south', 'non', 'magical', 'fantastical', 'displays', 'norths', 'greed', 'kingdoms', 'clashed', 'until', 'offered', 'truce', 'anesthesia', 'minor', 'neurosurgery', 'condition', 'symptomatic', 'chiari', 'malformation', 'woke', 'stuck', 'relive', 'medical', 'particularly', 'neurosurgeon', 'playlist', 'kdrama', 'speaker', 'mike', 'pictured', 'capitol', 'dc', 'faces', 'unruly', 'conference', 'reach', 'agreement', 'levels', 'photo', 'kevin', 'dietschgetty', 'images', 'includes', 'hull', 'loss', 'accident', 'rates', 'departures', 'airbus', 'a310', '1983', 'highest', 'rate', '253', 'passenger', '320', 'a321', 'a319neo', '011', '148', 'charge', 'gives', 'runtime', 'estimate', 'sector', 'depend', 'intrinsic', 'characteristics', 'sánchez', 'recarte', 'focus', 'responsibilities', 'roundtrip', '102', 'ms', 'hopping', 'closer', 'sport', 'cruise', 'newly', 'initiated', 'opinion', 'screeched', 'leaped', 'bush', 'contact', 'crashed', 'causing', 'skid', 'halt', 'nyssis', 'chances', 'shotgun', 'fired', 'skull', 'killing', 'instantly', 'celeste', 'favorite', 'freeware', 'bloated', 'stupidly', 'corruption', 'arc', 'double', 'dash', 'contextless', 'powerup', 'treasure', 'cry', 'yep', 'spreadsheet', 'schedule', 'rowing', 'simon', 'spillane', 'lobby', 'operations', 'sustainability', 'citing', 'kegs', 'reused', '165', 'crushed', 'countries', 'toys', 'oriented', 'loooong', 'history', 'form', 'violence', 'ur', 'gi', 'joes', 'traansformers', 'onnnnnnnnn', 'flown', 'auto', 'involved', 'aaaand', 'stream', 'asking', 'begets', 'council', 'spend', 'entire', 'millennia', 'devoted', 'protecting', 'apologize', 'scent', 'deal', 'coronation', 'harris', 'hurried', 'fully', 'kitted', 'waaaaahoooo', 'ambitious', 'ppwr', 'playing', 'field', 'alcoholic', 'beverages', 'contributing', 'fairly', 'reaching', 'supporting', 'puts', 'competitive', 'disadvantage', 'unlike', 'streaming', 'episodes', 'dropped', 'watches', 'prefacing', 'posts', 'spoiler', 'alerts', 'discussion', 'specified', 'silos', 'steer', 'yoke', 'rudder', 'pedals', 'brakes', 'capture', 'ath', 'nemics', 'eye', 'fell', 'kronos', 'battle', 'tanks', 'strykers', 'crew', 'milled', 'machines', 'cohrens', 'gaze', 'captain', 'boradin', 'talking', 'armored', 'platoons', 'commander', 'masking', 'emotions', 'judges', 'decisions', 'effectively', 'secretary', 'alexey', 'danilov', 'previously', 'disappear', 'territory', 'hostile', 'propaganda', 'brainwashing', 'population', 'doublechecking', 'several', 'repos', 'deleted', 'missed', 'basically', 'xo', 'co', 'radio', 'crackled', 'picking', 'heat', 'signatures', '350', 'yards', 'degrees', 'buy', 'league', 'tells', 'officials', 'miami', 'penalty', 'dough', 'branch', 'holding', 'germany', 'workers', 'run', 'jointly', 'wave', 'strikes', 'unheard', 'codetermination', 'simultaneously', 'facing', 'eightday', 'irate', 'blocked', 'roads', 'tractors', 'threeday', 'railway', 'looming', 'doctors', 'surgeries', 'mistgabelmop', 'pitchfork', 'mob', 'harmonious', 'labour', 'relations', 'travel', 'beat', 'facepalmed', 'danny', 'sam', 'fenton', 'manson', 'tucker', 'sams', 'ghost', 'zone', 'zach', 'veteran', 'personally', 'subject', 'shingled', 'knowing', 'diyers', 'shinglers', 'mistakes', 'proper', 'precautions', 'wasting', 'familiarize', 'ourselves', 'piper', 'wear', 'gloves', 'stainless', 'edges', 'razor', 'straighten', 'table', 'dolly', 'offer', 'specialty', 'trim', 'jewelers', 'hammers', 'anvils', 'piece', 'standalone', 'hammer', 'kinda', 'divorce', 'fictional', 'intent', 'ppl', 'w', 'thankfully', 'choose', 'provider', 'phone', 'duh', 'turret', 'hatch', 'clanked', 'replace', 'ellipsis', 'symbol', '54', 'chapter', 'messy', 'stage', 'retviks', 'stupid', 'varying', 'shades', 'determining', 'straightforward', 'transportation', 'maintains', 'comprehensive', 'databases', 'accidents', 'incidents', 'administration', 'provides', 'preliminary', 'incident', 'reports', 'include', 'manufacturer', 'sharing', 'hacker', 'voice', 'dennis', 'm', 'cofounder', 'ceo', 'markets', 'approval', 'historic', 'unleash', 'predators', 'tens', 'retirees', 'likely', 'undermine', 'stability', 'bummer', 'mounting', 'tplink', 'cpe210', 'downwards', 'truck', 'nor', 'driving', 'bike', 'wales', 'fourpiece', 'proud', 'release', 'debut', 'album', 'hot', 'handle', 'via', 'music', 'callum', 'joins', 'hows', 'privilege', 'yourselves', 'loving', 'charts', 'promising', 'user15', 'defining', 'entertainment', 'audience', 'entertainer', 'sally', 'rooney', 'latest', 'essay', 'stand', 'defiantly', 'federation', 'terrorist', 'whatcha', 'wanna', 'teeming', 'excitement', 'handed', 'rolled', 'realize', 'alborn', 'clue', 'knew', 'somewhere', 'outfits', 'hands', 'emanating', 'purple', 'glow', 'hack', 'measuresmaybe', 'morals', 'fingers', 'screens', 'popular', 'websites', 'referred', 'wraith', 'catchy', 'granted', 'wr417h', 'sitting', 'enemys', 'recruit', 'natayla', 'suitors', 'goooo', 'reign', 'curled', 'comforter', 'notebooks', 'lighting', 'space', 'user16', 'ugh', 'fiberglass', 'painters', 'suit', 'muscles', 'continued', 'strong', 'demand', 'vegan', 'options', 'recently', 'steak', 'bake', 'ranges', 'festive', 'chocolate', 'orange', 'muffin', 'baguette', 'islamic', 'movement', 'nigeria', 'freedom', 'elzakzaky', 'victory', 'persecution', 'muhammadu', 'buhari', 'governor', 'nasiru', 'elrufai', 'kaduna', 'ruling', 'vindicated', 'enjoyed', 'subscribe', 'channel', 'forget', 'notification', 'button', 'notified', 'updates', 'motorbikes', 'fixed', 'else', 'pushing', 'crevasse', 'baseball', 'precinct', 'sydney', 'cbd', 'grown', 'presettlement', 'landscape', 'twostorey', 'maximum', 'height', '150', 'soaring', 'towers', 'scaleddown', 'sydneys', 'town', 'nodes', 'evolve', 'swing', 'affordable', 'heights', 'growth', 'welldesigned', 'landscaping', 'parks', 'included', 'essential', 'infrastructure', 'highpowered', 'grapple', 'nostalgia', 'acknowledging', 'extremely', 'flawed', 'personal', 'items', 'gear', 'newer', 'disoriented', 'annoyed', 'plougheth', 'mine', 'feeldes', 'download', 'app', 'click', 'lab', 'note', 'instructions', 'worksheet', 'self', 'explanatory', 'pages', 'fave', 'typesetting', 'edits', 'active', 'conciseness', 'cuppa', 'dude', 'kitchen', 'barelyused', 'merch', 'd', 'donked', 'threading', 'mega', 'executive', 'roisin', 'currie', 'pa', 'till', 'expects', 'stable', 'base', 'added', 'deflation', 'reducing', 'retailers', 'wage', 'bigger', 'packets', 'money', 'consumers', 'pockets', 'millennials', 'generation', 'connections', 'artists', 'impose', 'washed', 'finishing', 'setting', 'initial', 'harvard', 'psychology', 'masters', 'eventually', 'setbacks', 'milgram', 'undergraduate', 'courses', 'college', '1961', 'received', 'phd', 'professor', 'yale', 'snarky', 'dna', 'lean', 'scottish', 'irish', 'chris', '19952005', 'director', '20052009', 'urban', 'taskforce', 'australia', '2011', 'hedges', 'sqqq', 'bag', 'huge', 'heck', 'yea', 'masterfully', 'siso', 'generated', 'prolific', 'landscapes', 'portraits', 'stilllife', 'rendered', 'acrylic', 'pastel', 'pencil', 'watercolor', 'drawing', 'reference', 'photographs', 'recollection', 'colorful', 'compositions', 'demonstrate', 'range', 'interests', 'skill', 'sisos', 'tropical', 'seascapes', 'reflect', 'geographies', 'employing', 'patterns', 'incorporating', 'meaningful', 'memory', 'environment', 'artworks', 'mix', 'spanish', 'english', 'signifying', 'celebrated', 'integral', 'complexities', 'los', 'angeles', 'county', 'vicente', 'opens', '68', 'pm', 'exhibition', 'tap', 'shivered', 'sound', 'kind', 'hearing', 'noise', 'presumably', 'dms', 'decimal', 'clouded', 'rumors', 'lapse', 'whom', 'virus', 'disturbed', 'incredible', 'plus', 'owner', 'guy', 'exchange', 'talks', 'chats', 'late', 'miniature', '18', 'ministerial', 'summit', 'yielded', 'carve', 'requirement', 'decade', 'supplied', 'reusable', 'containers', 'refill', '40', '2040', 'likewise', 'supported', 'exempt', '2029', 'proposal', 'analytical', 'ie', 'guitar', 'sides', 'increased', 'mental', 'capacity', 'spaces', 'tim', 'whitehouse', 'epa', 'enforcement', 'attorney', 'employees', 'environmental', 'praised', 'biden', 'administrations', 'improvements', 'headwinds', 'efforts', 'sustained', 'funding', 'build', 'instability', 'demoralizing', 'undermines', 'ability', 'strategically', 'term', 'tapering', '15', 'ironically', 'price', 'rises', 'importantly', 'scheme', 'unwieldy', 'prohibitively', 'implement', 'involving', 'firsttier', 'tribunal', 'fair', 'adding', 'layers', 'bureaucracy', 'gain', 'tenants', '100k', 'ought', 'skin', 'pitch', 'slimy', 'slime', 'remained', 'firmly', 'attached', 'limbs', 'tipped', 'thin', 'talons', 'horns', 'prettiest', 'digit', 'chin', 'forces', 'temptation', 'intervene', 'situations', 'difference', 'obvious', 'somebody', 'workshop', 'content', 'inject', 'contents', 'div', 'anatomically', 'accurate', 'mm', 'sale', 'normally', 'confined', 'mother', 'banished', 'servants', 'weirdly', 'user43', 'bodacious', 'loaf', 'birthed', 'impressive', 'bored', 'sludge', 'watertemple', 'harder', 'quantify', 'loans', 'school', 'enrollment', 'plenty', 'evidence', 'agency', 'mountains', 'iran', 'threat', 'refusing', '130', 'quotas', 'representation', 'india', 'male', 'resistance', 'voting', 'activism', 'eased', 'serious', 'nose', 'trouble', 'authority', 'shake', 'letting', 'silent', 'warped', 'grate', 'psst', 'whispered', 'yell', 'lack', 'lilith', 'catch', 'electric', 'hearth', 'chimney', 'blown', 'plaster', 'skim', 'custom', 'wardrobe', 'cloudy', 'generate', 'juice', '99', 'domestic', 'micro', 'mediumsized', 'questioning', 'solidity', 'asserting', 'organisation', 'focused', 'presenting', 'makers', 'relevant', 'appropriate', 'lighter', 'jacket', 'pocket', 'cig', 'waking', 'command', 'preset', 'wake', 'alarm', 'worked', 'speakers', 'hiss', 'member', '85', 'introduction', 'ladies', 'atlanta', 'mississippi', 'mtv', 'wild', 'n', 'coldest', 'karlous', 'millers', 'normallooking', 'plates', 'scales', 'hed', 'conveniently', 'spikes', 'airborne', 'orientated', 'positions', 'wealth', 'stepping', 'interested', 'challenge', 'beg', 'child', 'lock', 'banish', 'pleaded', 'tightly', 'snapped', 'climbed', 'thassalins', 'abandoned', 'fighty', 'hiding', 'sainsburys', 'haringey', 'lanes', 'gidbo', 'dares', 'scotlands', 'usual', 'outraged', 'danger', 'embattled', 'michael', 'succeed', 'convince', 'regrettable', 'somehow', 'acceptable', 'ministers', 'user25', 'ooo', 'shout', 'defo', 'skills', 'interplay', 'advantage', 'shortform', 'stories', 'skip', 'engrossing', 'satisfying', 'longform', 'imbue', 'weight', 'immediacy', 'stronger', 'payoffs', 'eats', 'children', 'servant', 'cutting', 'estimated', '16', 'billion', 'caucus', 'believes', 'moderate', 'republicans', 'backed', 'mccarthys', 'stance', 'unrealistic', 'counter', 'forcing', 'opposed', 'omnibus', 'measure', 'combined', 'shrugged', 'photos', 'beasts', 'pulled', 'favourite', 'fancy', 'deathgody', 'burn', 'pile', 'ashes', 'user32', 'perform', 'liver', 'transplant', 'thanks', 'reconditioning', 'container', 'soil', 'cucurbits', 'spent', 'potting', 'weed', 'topsoil', 'beds', 'starts', 'drilling', 'seed', 'crosscountryflight', 'demanded', 'scott', 'managing', 'alongside', 'father', 'alex', 'increasingly', 'appreciates', 'amount', 'natural', 'uses', 'emits', 'increasing', 'secondary', 'materials', 'volume', 'enormously', 'cleared', 'mario', 'maker', 'writing', 'performing', 'grandparents', 'professionals', 'recording', 'professional', 'writers', 'hits', 'wandering', 'streets', 'option', 'staying', 'stuffy', 'neighbors', 'sex', 'returned', 'aheadill', 'pawnshop', 'junk', 'interesting', 'pastime', 'flushed', 'overthinking', 'hung', 'unless', 'mugged', 'beaten', 'mafia', 'gang', 'activities', 'tank', 'distinct', 'unrelated', 'handles', 'crimes', 'enrd', 'prior', 'joining', 'uhlmann', 'served', 'longtime', 'divisions', '1990', '2007', 'sends', 'underfunded', 'relies', 'agencies', 'fights', 'deferred', 'fewer', 'doj', '88', '2000', 'concluded', 'judicial', 'integrity', 'notes', 'trumps', '94', '106', 'surprisingly', 'match', 'glue', 'tin', 'rin', 'rim', 'jeez', 'battles', 'wander', 'occasionally', 'pick', 'mushrooms', 'user5', 'switch', 'renewal', 'rides', '27', 'uber', 'lyft', 'rental', 'insurance', 'fault', 'sneeze', 'sucked', 'puls', 'fears', 'harm', 'image', 'fretting', 'version', 'gilets', 'jaunes', 'protests', 'france', '2018', 'culminated', 'yellowjacketed', 'demonstrators', 'torching', 'cars', 'champselysées', 'tear', 'jochen', 'kopelke', 'warned', 'interview', 'tagesspiegel', 'daily', 'enormous', 'protest', 'shrink', 'sour', 'drop', 'confidence', 'shaping', 'tougher', 'hailey', 'ockinga', 'antiincarceration', 'activist', 'organizer', 'walls', 'reruns', 'ruined', 'turning', 'unable', 'somber', 'ensured', 'gutwrenching', 'transpiring', 'plays', 'floodgates', 'werent', 'rose', 'saddened', 'mood', 'regularly', 'ease', 'joy', 'tired', 'tranche', 'reveals', 'amen', 'flicked', 'mud', 'rough', 'sketch', 'cosa', 'italy', 'ancient', 'roman', 'settlement', 'century', 'excavate', 'pantheon', 'rome', 'contemporary', 'buildings', 'era', 'cardinally', 'indicates', 'i131', 'fifty', 'siege', 'flush', 'insurgency', 'foothold', 'explained', 'squads', 'mount', 'ah', '699', 'toward', 'wing', 'roamed', 'whispering', 'posting', 'install', 'bootstrap', 'fanfare', 'lasers', 'hence', 'earlier', 'delay', 'httpstwittercomsciguyspacestatus1760800168473928104', 'established', 'expanded', 'prisons', 'entities', 'exception', 'thousands', 'unbearable', 'freezer', 'u', 'describe', 'combination', 'motorcycleatv', 'boat', '4000', 'ft', 'boomerang', 'mars', 'planet', 'volcano', '81000', 'tallalmost', 'everest', 'span', 'imagination', 'grasp', 'anyhow', '37', 'evolution', 'menace', 'hugged', 'viral', 'scale', 'assume', 'trapped', 'cycles', 'discovering', 'artist', 'predator', 'bigot', 'greg', 'burt', 'bond', 'risk', 'hurting', 'bothered', 'amazon', '2021', 'output', '12a', 'vintage', 'easter', 'crafts', 'brandy', 'diys', 'ornaments', 'decor', 'dollar', 'gdpr', 'user19', 'visa', 'passport', 'pic', 'paid', 'california', 'aint', 'ach', 'citizen', 'dumb', 'joke', 'rainy', 'ensued', 'overdue', 'walkexploring', 'paltricus', 'whod', 'mutation', 'pure', 'illuminated', 'vibrant', 'stars', 'lonely', 'distant', 'sky', 'cage', 'luxurious', 'filled', 'brim', 'apartments', 'occupants', 'hundreds', 'tall', 'appeased', 'architecture', 'extended', 'foundation', 'knows', 'kept', 'wraps', 'piranis', 'season', 'sub', 'offensive', 'minded', 'fletcher', 'edit', 'trimming', 'herbs', 'omg', 'legitimately', 'ridiculous', 'tactics', 'recharged', 'burnout', 'attempts', 'played', 'reasonably', 'aside', 'grinding', 'soul', 'crushing', 'angsty', 'yisssss', 'clearly', 'hissed', 'fly', 'despite', 'nimble', 'scream', 'lost', 'depictions', 'center', 'silence', 'dr', 'vishal', 'sikka', 'infosys', 'railways', 'engineer', 'phase', 'surfer', 'dodging', 'waves', 'disruption', 'technologies', 'esp32', 'boards', 'fisheyelens', 'irled', 'raspberry', 'pi', 'circled', 'round', 'beast', 'followed', 'panicked', 'blast', 'hadnt', 'realised', 'alone', 'slowed', 'thwacked', 'knocking', 'laundry', 'basketball', 'shorts', 'laying', 'supplies', 'crate', 'sore', 'gym', 'gained', 'metro', 'purchase', 'smartphone', 'communication', 'adaptations', 'adaptive', 'preferencing', 'heritage', 'preservation', 'edited', 'user9', 'slas', 'contracted', '5', '9s', 'weasel', 'downtime', 'verified', 'internally', 'static', 'admission', 'guilt', 'paranoidcynical', 'guessed', 'ash', 'gunshots', 'echoed', 'marched', 'boots', 'dragging', 'reached', 'threw', 'landed', 'snow', 'tooting', 'tbh', 'tailwind', 'component', 'library', 'pointing', 'hilarious', 'wondered', 'enter', 'bruise', 'chuckled', 'book', 'shoulder', 'apologized', 'warnings', 'unheeded', 'unwillingness', 'believe', 'dictates', 'avoided', 'greater', 'negotiation', 'understood', 'principles', 'supply', 'riddance', 'ic', 'dislocated', 'pcb', 'damaged', 'learn', 'pretend', 'wfh', 'editing', 'boo', 'awkward', 'cuts', 'jambs', 'seamless', 'transition', 'laid', 'user45twittercom', 'cursing', 'parroted', 'forth', 'assumption', 'connection', 'sneaked', 'assemble', 'sources', 'died', 'lag', 'panning', 'shot', 'anyways', 'shooting', 'graphics', 'lagging', 'cod', 'tricky', 'cash', 'margin', 'grandma', 'husband', 'uncle', 'aunt', 'imessage', '19th', '234', '2543', '42535', 'bolt', 'surface', 'rust', 'ordinary', 'zinc', 'finish', 'whenever', 'zincplated', 'plate', 'weatherproof', 'uh', 'tapping', 'pig', 'tails', 'swishing', 'giggled', 'withdrawn', 'passionate', 'related', 'ok', 'net', 'resource', 'faa', 'links', 'worldwide', 'statistical', 'summary', 'jet', 'airplane', '19592022', 'assesses', 'planetype', 'published', 'september', '787', 'a350', 'fewest', 'destroyed', 'additional', 'experienced', 'doubledecker', 'behemoth', 'a380', 'accumulated', 'intricate', 'karis', 'dragon', 'primordial', 'dragons', 'allegedly', 'painter', 'examined', 'handiwork', 'shapeshifting', 'spast', 'thick', 'sunlight', 'underwent', 'global', 'glaciation', 'snowball', 'caused', 'extinction', 'survived', 'period', 'beneath', 'sheet', 'trust', 'outlet', 'accurately', 'mainstream', 'exaggerated', 'biased', 'gather', 'analyze', 'properly', 'necessarily', 'individuals', 'facebook', 'ftse', '250', 'firm', '140', 'outlets', 'convenient', 'stores', 'retail', 'roadside', 'industrial', 'estates', 'easily', 'quote', 'landpeople', 'cheaped', 'revenge', 'boardroom', 'derangement', 'metastasized', 'creativity', 'fungible', 'esp', 'communications', 'akin', 'akinwale', 'expressed', 'mentioned', 'fat', 'diy', 'homerenovation', 'subscribed', 'crm', 'kid', 'durango', 'arizona', 'devils', 'layer', 'dew', 'covered', 'prairie', 'foothills', 'moon', 'thousand', 'teagan', 'clubbed', 'smashed', 'noticed', 'flailing', 'snarling', 'clawing', 'shadows', 'teleporting', 'stabbing', 'confusing', 'antique', 'brass', 'ornament', 'coat', 'rub', 'buff', 'ink', 'ginger', 'droplet', 'blended', 'antiqued', 'metal', 'burnished', 'amber', 'spray', 'oxidized', 'bell', 'bobbles', 'seasons', 'greys', 'anatomy', 'mcdreamy', 'patient', 'positioned', 'dramatization', 'lalibela', 'traveled', '1600', 'jerusalem', 'legend', 'conquest', 'christianity', 'church', 'carved', 'rock', 'symbolize', 'spirituality', 'humility', 'christian', 'faith', 'inspired', 'features', 'receiving', 'biblical', 'names', 'lalibelas', 'river', 'jordan', 'ethiopia', 'late12th', '13th', 'subconsciously', 'crave', 'universal', 'surround', 'extroverted', 'exploring', 'ways', 'fighting', 'longheld', 'belief', 'successful', 'moscow', 'violate', 'russianspeaking', 'ukraines', 'foreign', 'spokeswoman', 'maria', 'zakharova', 'kievs', 'discriminatory', 'indignant', 'survey', 'conducted', 'institute', 'sociology', 'respondents', 'cited', 'discrimination', 'prejudice', '45', 'bid', 'derussify', 'amazing', 'pks', 'neither', 'gun', 'unfair', 'patted', 'remind', 'arkadin', 'except', 'murderous', 'capable', 'universes', 'revealed', 'cheered', 'record', '220', 'shops', '33', 'closures', '42', 'relocations', 'leaving', '145', '2473', 'buddys', 'boot', 'camp', 'motioned', 'units', 'hesitated', 'pained', 'grunt', 'tenuks', 'fur', 'begged', 'shes', 'throne', 'scowled', 'dentist', 'fitting', 'fortnight', 'practising', 'mouth', 'wide', 'skirtings', 'decorator', 'bare', 'chic', 'suspected', 'logical', 'civilizations', 'modern', 'civilization', 'flourish', 'earthone', 'actively', 'suppressed', 'exploited', 'hidden', 'belongings', 'oversee', 'assist', 'sergeants', 'lieutenants', 'fifteen', 'checks', 'behaving', 'user29user30engineer', 'trigonometry', 'blobs', 'shapes', 'rusing', 'firing', 'rip', 'clinging', 'dear', 'flailed', 'blasting', 'blackened', 'bursts', 'flame', 'injured', 'pissed', 'unwilling', 'balls', 'straightened', 'opportunity', 'pull', 'weapon', 'trusty', 'meant', 'surely', 'scattershot', 'deter', 'message', 'concept', 'separation', 'judiciary', 'vital', 'safeguard', 'tyranny', 'voters', 'tolerate', 'extreme', 'upstairs', 'bathroom', 'sucks', 'ass', 'hoping', 'bro', 'asleep', 'totallly', 'drinking', 'aye', 'multimeter', 'steps', 'label', 'reattach', 'creating', 'flew', 'processing', 'pale', 'decorated', 'strands', 'weak', 'sons', 'complain', '_', 'regulators', 'watershed', 'wrongful', 'unintended', 'consequences', 'respect', 'shock', 'troopers', 'corporal', 'climb', 'redevelopment', 'recruited', 'enterprises', 'recycle', 'bing', 'colliery', 'park', 'speaking', 'encourages', 'words', 'user33', 'wow', 'evokes', 'awe', 'convey', 'relaxing', 'journey', 'deeper', 'egypt', 'aw', 'slurring', 'reversing', 'solving', 'humane', 'demonstrated', 'transparency', 'accountability', 'count', '25', 'overseeing', 'lower', 'permission', 'relax', 'thumb', 'index', 'finger', 'shifting', 'pack', 'possessed', 'essays', 'uncomfortably', 'passive', 'purifier', 'justified', 'antimasker', 'marine', 'dinosaurs', 'exist', 'apologies', 'intruding', 'upon', 'mademoiselle', 'strictly', 'reptiles', 'lived', 'youll', 'julie', 'princey', 'searching', 'experiencing', 'fatality', 'unavoidable', 'truths', 'confronted', 'cochairs', 'legislative', 'studying', 'recommending', 'variety', 'backgrounds', 'advocacy', 'agree', 'washingtons', 'criath', 'stow', 'zoroastrian', 'vendidad', 'yima', 'ahura', 'mazda', 'catastrophic', 'noah', 'bible', 'instructed', 'animals', 'seeds', 'reseed', 'cataclysm', '110000', '24v', 'sadly', 'partly', 'obstructed', 'drops', 'load', 'shapeshifted', 'challenges', 'showing', 'clearance', 'faas', 'medications', 'scary', 'lanex', 'worried', 'frowned', 'swiftly', 'reloaded', 'earning', 'executed', 'psych2goers', 'accessible', 'selfdestructive', 'intentional', 'become', 'habit', 'behaviors', 'bound', 'physically', 'unintentional', 'urge', 'arise', 'behavior', 'becomes', 'habitual', 'pleased', 'hollywood', 'studio', 'arts', '2012', 'marks', 'solo', 'raised', 'venezuela', 'trinidad', 'southern', '20s', '83hour', 'ae', 'fourinten', 'waiting', 'ambulances', 'queuing', 'collapse', 'performance', 'muttered', 'aid', 'kurgan', 'howland', 'user48', 'sweet', 'relief', 'solid', 'proponent', 'protective', 'muchanticipated', 'hailed', 'currencies', 'proponents', 'broaden', 'investing', 'possibly', 'lead', 'broader', 'acceptance', 'cryptocurrencies', 'legitimate', 'assets', 'exploded', '25000', '45000', 'asset', 'climax', 'literally', 'pico8', 'mechanical', 'narrative', 'buildup', 'parent', 'throws', 'memorial', '2500', 'progression', 'flag', 'title', 'screen', 'engineering', 'taught', 'engineers', 'strange', 'coincidence', '1970s', 'academic', 'context', 'matters', 'massively', 'academia', 'phdlife', 'typefully', 'exempting', 'deposit', 'potentially', 'illegal', 'lawmakers', 'designed', 'surging', 'tide', 'semantic', 'css', 'spat', 'anymore', 'upgrade', 'whiskey', 'tar', 'seal', 'itll', 'crack', 'silicon', 'nonosthe', 'sealer', 'painted', 'filler', '450', 'leap', 'survive', 'john', 'innes', 'centre', 'nutrients', 'forming', 'friendship', 'soildwelling', 'fungi', 'mycorrhiza', 'algae', 'beneficial', 'friendships', 'browsing', 'digikey', 'parts', 'exact', 'update', 'installed', 'panels', '90', 'user22', 'reorder', 'documents', 'js', 'hash', 'url', 'query', 'string', 'search', 'params', 'choice', 'reordering', 'dwight', 'cooking', 'tuna', 'macaroni', 'salad', 'recipe', 'pepper', 'onions', 'teaspoon', 'salt', 'taste', 'boiled', 'alexa', 'party', 'bo', 'spin', 'youd', 'woo', 'midnight', 'insert', 'designing', 'rolling', 'evening', 'targeted', '1200', 'likeforlike', 'sales', 'ownmanaged', 'fourth', 'quarter', 'slowdown', '142', 'contribution', 'inflation', 'fullyear', '137', 'fifth', 'alarming', 'experts', 'heeded', 'adobe', 'saturation', 'polarization', 'actors', 'ruin', 'clarified', 'haha', 'jerk', 'tom', 'celia', 'passions', 'robotics', 'awesome', 'admit', 'freaked', 'nightmares', 'robotic', 'claw', 'user39', 'stumbled', 'debating', 'apathy', 'podcast', 'cornerstone', 'informative', 'janica', 'finland', 'netherlands', 'vlog', 'haarlem', 'harlem', 'province', 'holland', 'nerd', 'behalf', 'rasheed', 'zubair', 'aide', 'asserts', 'framework', 'nigerian', 'crucial', 'request', 'violates', 'various', 'nigerias', 'regulations', '2009', 'explicitly', 'prohibit', 'fraud', 'forms', 'additionally', '713', 'shall', 'stipulates', 'officer', 'pays', 'deemed', 'fraudulent', 'intention', 'spins', 'groundschool', 'user18', 'securities', 'begrudgingly', 'longawaited', 'fans', 'criticized', 'watchdogs', 'skeptical', 'blinked', 'representatives', 'bucked', 'leadership', 'derailing', 'votes', 'johnsons', 'reductions', 'finsbury', 'windy', 'adept', 'milky', 'galaxy', 'collided', 'dwarf', 'encounter', 'hastened', 'formation', 'circulation', 'progressing', 'radiator', 'tricklecharged', '38', 'niche', 'buildingcustomising', 'lil', 'ben', 'affleck', 'twohour', 'howard', 'stern', 'talked', 'breakup', 'exwife', 'fallout', 'behaves', 'defeats', 'scissors', 'scissor', 'win', 'loser', 'star', 'referee', 'cards', 'players', 'card', 'firestorm', 'butwe', 'underestimate', 'blanket', 'inadvertently', 'guilty', 'pressing', 'overturning', 'verdicts', 'precedent', 'populists', 'testing', 'boundaries', 'learning', 'midscale', 'couldve', 'existed', 'resonant', 'tighter', 'insane', 'values', 'wouldve', 'incarnation', 'ultimately', 'playground', 'worlds', 'lovedon', 'platformer', 'physics', 'neat', 'updated', 'defeated', 'draw', 'pdr', 'brand', 'yukon', 'denali', 'dent', 'warm', '95', 'skinpotion', 'handcrafted', 'organic', 'deeply', 'moisturize', 'illuminate', 'veil', 'venus', 'newest', 'addition', 'preorder', 'instagram', 'skinpotionus', 'scotty', 'kilmer', 'faded', 'tuned', 'polish', 'bucket', 'polisher', 'bottle', 'meguiars', 'ultimate', 'compound', 'irregularly', 'bustling', 'activity', 'worker', 'stressed', 'barkeep', 'purposely', 'tone', 'throw', 'chuckle', 'escaping', 'softly', 'obviously', 'busyyou', 'huffed', 'drunks', 'uttered', 'puppy', 'cheers', 'eat', 'wiping', 'salivating', 'fixin', 'veggie', 'budgetfriendly', 'meal', 'pour', 'grape', 'koolaid', 'oops', 'switching', 'engine', 'climbing', 'holy', 'delusional', 'armoured', 'temthan', 'telepathy', 'cherished', 'floating', 'user50', 'mirror', 'tenant', 'sought', 'cap', 'limited', 'pressures', 'costofliving', 'statistics', 'sized', 'properties', 'ranging', '117', 'onebedroom', '143', 'twobedroom', 'property', 'exceeding', 'rotterdam', 'divides', 'opinions', 'urbanlooking', 'ii', 'germans', 'attacked', 'rebuilt', 'delight', 'employed', 'excellent', 'bc', 'constructed', 'reflects', 'laser', 'sword', 'sentinel', 'fled', 'foot', '0430', 'itania', 'hated', 'bunk', 'fatigues', 'vest', 'packed', 'locker', 'careful', 'particular', 'shoulded', 'helmet', 'fixing', 'respirator', 'goggles', 'checking', 'ammo', 'pouches', 'barracks', 'squelching', 'wire', 'indeed', '1910', 'november', '1730', 'promptly', 'departments', 'wards', 'encourage', 'teachers', 'teacher', 'accept', 'independence', 'famously', 'concession', 'farthest', 'eternally', 'scared', 'danced', 'kings', 'deceased', 'alienated', 'disgust', 'mercy', 'woman', 'twentytwo', 'cared', 'sourdough', 'starter', 'cryogenic', 'stasis', 'baking', 'instantaneously', 'appeared', 'gingerly', 'fobs', 'lights', 'generators', 'tinted', 'enemy', 'bombers', 'resorted', 'attacks', 'logbook', 'nick', 'review', 'outlaw', 'walkthrough', 'cabin', 'sheetrock', 'border', 'accommodate', 'flighttraining', 'user27', 'hehe', 'ty', 'user26', 'tenon', 'sawchisel', 'bottom', 'flooring', 'neatly', 'underneath', 'footered', 'filed', 'impressions', 'invite', 'devour', 'bready', 'redid', 'knock', 'lady', 'snowflakes', 'dang', 'nationwide', 'httpswwwfoxbusinesscomlifestylecellphoneoutagehitsattcustomersnationwideverizontmobileusersalsoaffected', 'flightaware', '500', 'abruptly', 'interior', 'everhart', 'mosasaurs', 'horizon', 'seaway', 'climate', 'warmer', 'polar', 'caps', 'honor', 'accepts', 'jury', 'presently', 'constituted', 'satisfactory', 'swear', 'detonation', 'pizza', 'thursday', 'scratches', 'dazed', 'badly', '1026', 'ring', 'dispelled', 'discomfort', 'aroma', 'freshly', 'brewed', 'lungs', 'owned', 'practically', 'empty', 'approaching', 'droop', 'atop', 'stools', 'yawn', 'bringing', 'raspy', 'fractals', 'replied', 'shallowly', 'betrayed', 'refused', 'accepted', 'lit', 'speech', 'mason', 'mi', 'sturgis', 'hehehe', 'moar', 'results', 'drum', 'roll', 'consistent', '899', 'concentrated', 'borders', 'cornwall', 'breton', 'tho', 'cornish', 'fashioned', 'toiletroll', 'sawdust', 'extractor', 'accessory', 'hoover', 'internationally', 'continent', 'segments', 'intrigued', 'scenes', 'tips', 'separates', 'bloggers', 'hospitality', 'educated', 'recommend', 'user6', 'e2ee', 'decentralised', 'countless', 'neolithic', 'ruins', 'feats', 'lift', 'stones', 'posited', 'remnants', 'onceadvancedyetdestroyed', 'possibilities', 'agra', 'compelling', 'publish', 'yield', 'striving', 'scientist', 'song', 'encapsulates', 'predicament', 'troops', 'chow', 'matt', 'britzman', 'equity', 'hargreaves', 'lansdown', 'supplychain', 'suite', 'tasty', 'treats', 'bakes', 'muffins', 'bears', 'slowing', 'hikes', 'cooled', 'longerterm', '5am', 'heathrow', 'nap', 'caulk', 'wilderness', 'punishment', 'wrongdoing', 'poison', 'user42', 'myblog', 'repo', 'thunder', 'e', 'gaming', 'asus', 'rog', 'phones', 'refrain', 'hastily', 'sped', 'corner', 'glance', 'tailed', 'glowing', 'alborns', 'slower', 'entered', 'againthis', 'mutated', 'snuck', 'interestingly', 'enoughthere', 'refugees', 'httpsplusnasagovscheduledvideointuitivemachines1lunarlanding', 'mixes', 'reducer', 'ounces', 'stir', 'livin', 'swampers', 'siree', 'imply', 'etps', 'senate', 'mitch', 'mcconnell', 'meaning', 'promise', 'appease', 'flank', 'maneuver', 'ignite', 'heated', 'ideological', 'closely', 'divided', 'gops', 'partial', 'flux', 'anxious', 'discover', 'settle', 'sees', 'arrange', 'cheeked', 'changing', 'uniform', 'constant', 'flirting', 'catcalling', 'bother', 'calmly', 'engines', 'jolted', 'released', 'wedge', 'plains', 'storms', 'frozen', 'wetlands', 'forests', 'tidbit', 'damp', 'core', 'loves', 'delightful', 'erupted', 'jaws', 'screaming', 'window', 'claws', 'dug', 'bleed', 'log', 'concern', 'varifocals', 'lenses', 'combo', 'terminology', 'pushed', 'optic', 'thermal', 'distance', 'ties', 'significant', 'infrequent', 'nature', 'apparent', 'declined', 'processed', 'multimillion', 'pound', 'mastopeeps', 'gobble', 'ignacio', 'comité', 'européen', 'des', 'entreprises', 'vins', 'trade', 'representing', '7000', 'dismissive', 'dominated', 'multinational', 'brewing', 'conglomerates', 'comprised', 'entirely', 'tyvek', 'sweaty', 'overall', 'nasty', 'afterwards', 'halfway', 'thru']\n",
      "Palabras desconocidas: ['wonderful']\n",
      "Intenta con palabras del vocabulario de entrenamiento\n",
      "Traducción: <SOS> por favor sálvame de este horror <EOS> su por <EOS> de <EOS> de <EOS> de <EOS> de <EOS> de <EOS> de <EOS> de <EOS> de <EOS> de <EOS> de\n",
      "Traducción: <SOS> por favor sálvame de este mes y debería poder sin hacer trampa es un nivel de cosas que nunca de deben hacer el armazón tiene una nueva sección de\n",
      "Traducción: <SOS> estoy por qué no es para la sección 7 pero hace que no es he visto la mayoría de los reclutas más pasos se hacían cada vez es una\n",
      "Palabras desconocidas: ['qui']\n",
      "Intenta con palabras del vocabulario de entrenamiento\n",
      "Palabras desconocidas: ['qui']\n",
      "Intenta con palabras del vocabulario de entrenamiento\n"
     ]
    }
   ],
   "source": [
    "def interactive_translation():\n",
    "    \"\"\"Función para probar traducciones interactivamente\"\"\"\n",
    "    print(\"\\nModo interactivo - Escribe 'quit' para salir\")\n",
    "    print(\"Nota: Solo funcionará con palabras que están en el vocabulario de entrenamiento\")\n",
    "    print(\"Vocabulario disponible:\", list(input_vocab.ind_palab)[3:])  # Excluir tokens especiales\n",
    "    \n",
    "    while True:\n",
    "        sentence = input(\"\\nIngresa una oración en inglés: \").strip().lower()\n",
    "        if sentence == 'quit':\n",
    "            break\n",
    "        \n",
    "        # Verificar si todas las palabras están en el vocabulario\n",
    "        words = sentence.split()\n",
    "        unknown_words = [w for w in words if w not in input_vocab.ind_palab]\n",
    "        \n",
    "        if unknown_words:\n",
    "            print(f\"Palabras desconocidas: {unknown_words}\")\n",
    "            print(\"Intenta con palabras del vocabulario de entrenamiento\")\n",
    "            continue\n",
    "        \n",
    "        translation = translate(model, sentence, input_vocab, output_vocab)\n",
    "        print(f\"Traducción: {translation}\")\n",
    "\n",
    "interactive_translation()\n"
   ]
  },
  {
   "cell_type": "markdown",
   "id": "9e6f64b4",
   "metadata": {},
   "source": [
    "### 8. Ejercicios\n",
    "\n",
    "\n",
    "1. Mejoras al modelo (Opcional)\n",
    "\n",
    "Si tienen ganas, pueden explorar mejoras como:\n",
    "\n",
    "- Implementar atención (attention mechanism).\n",
    "- Agregar más capas LSTM (ajustar `NUM_LAYERS`).\n",
    "- Aplicar dropout para regularización.\n",
    "\n",
    "2. Responder\n",
    "\n",
    "- ¿Qué tipo de errores cometió su modelo en las primeras oraciones traducidas?\n",
    "- ¿Cómo podrían mejorar la calidad de las traducciones?\n",
    "- ¿Qué limitaciones ven en el enfoque actual y cómo las abordarían?\n"
   ]
  }
 ],
 "metadata": {
  "kernelspec": {
   "display_name": "Python 3",
   "language": "python",
   "name": "python3"
  },
  "language_info": {
   "codemirror_mode": {
    "name": "ipython",
    "version": 3
   },
   "file_extension": ".py",
   "mimetype": "text/x-python",
   "name": "python",
   "nbconvert_exporter": "python",
   "pygments_lexer": "ipython3",
   "version": "3.12.2"
  }
 },
 "nbformat": 4,
 "nbformat_minor": 5
}
