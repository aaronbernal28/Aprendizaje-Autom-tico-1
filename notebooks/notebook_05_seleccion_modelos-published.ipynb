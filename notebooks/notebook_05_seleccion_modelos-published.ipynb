{
 "cells": [
  {
   "cell_type": "markdown",
   "metadata": {},
   "source": [
    "[![Open In Colab](https://colab.research.google.com/assets/colab-badge.svg)](https://colab.research.google.com/github/aprendizaje-automatico-dc-uba-ar/material/blob/main/notebooks/notebook_05_seleccion_modelos-published.ipynb)\n",
    "\n",
    "# Selección de modelos"
   ]
  },
  {
   "cell_type": "code",
   "execution_count": 1,
   "metadata": {},
   "outputs": [],
   "source": [
    "%matplotlib inline\n",
    "import numpy as np\n",
    "import matplotlib.pyplot as plt\n",
    "import pandas as pd\n",
    "from IPython.display import display\n"
   ]
  },
  {
   "cell_type": "markdown",
   "metadata": {},
   "source": [
    "## Cross validation \n",
    "\n",
    "Hasta ahora sólo habíamos visto (ver en el [notebook 03](https://github.com/aprendizaje-automatico-dc-uba-ar/material/blob/main/notebooks/notebook_03_arboles_de_decision_sklearn-published.ipynb)) que ibamos a dividir los datos en train y test.\n",
    "\n",
    "\n",
    "En esta semana vimos la opción de hacer validación cruzada. En esta oportunidad lo que haremos será realizar una exploración de hiperparámetros para árboles incorporando conceptos de la clase de esta semana.\n",
    "Vamos a experimentar usando k-fold (con k=10) para explorar distintos valores de configuración de `DecisionTreeClassifier` para seleccionar el hiperparámetro que nos parezca el mejor. \n",
    "Ensayaremos áltura máxima con valores `[None, 1, 2, 3, 5, 8, 13, 21]`. \n",
    "\n",
    "Nos interesará:\n",
    "- controlar el tiempo de entrenamiento\n",
    "- generar alguna métrica que elijamos para seleccionar la áltura máxima\n",
    "\n",
    "Con la mejor configuración obtenida entrenar un clasificador con todos los datos de desarrollo.\n",
    "    \n",
    "Evaluar el comportamiento con el set de evaluación\n",
    "    \n",
    "\n"
   ]
  },
  {
   "cell_type": "code",
   "execution_count": 2,
   "metadata": {},
   "outputs": [
    {
     "data": {
      "text/plain": [
       "(array([[ 0.74946762, -1.83875845,  2.31697643, ...,  0.38502105,\n",
       "          1.15910799,  0.36490854],\n",
       "        [ 1.36142303,  0.17739336, -1.06308644, ..., -0.00426734,\n",
       "         -1.63632588, -0.8335227 ],\n",
       "        [ 0.12238178,  1.03817562, -1.46411856, ...,  1.69000604,\n",
       "         -0.57898546,  0.34605186],\n",
       "        ...,\n",
       "        [ 0.77302083,  0.76832206, -0.36434009, ..., -0.05485574,\n",
       "         -0.51528272,  0.7993889 ],\n",
       "        [-0.54238642, -0.87839139,  0.68624112, ...,  0.20799802,\n",
       "          1.06110671, -0.34658297],\n",
       "        [-0.03135099,  0.93928815, -1.16413366, ...,  0.73422269,\n",
       "         -0.37504853, -0.59041732]]),\n",
       " array([1, 0, 0, 0, 0, 0, 1, 0, 0, 0, 0, 0, 1, 0, 0, 0, 1, 1, 1, 1, 1, 0,\n",
       "        1, 1, 1, 1, 0, 0, 0, 0, 1, 1, 0, 0, 1, 0, 1, 1, 1, 1, 0, 0, 1, 0,\n",
       "        1, 0, 0, 0, 1, 1, 0, 1, 1, 0, 0, 1, 1, 0, 0, 0, 0, 0, 0, 1, 0, 0,\n",
       "        0, 0, 0, 0, 1, 1, 0, 0, 0, 0, 1, 0, 0, 0, 1, 0, 0, 0, 0, 0, 1, 0,\n",
       "        0, 0, 0, 1, 0, 1, 1, 1, 0, 0, 0, 0, 1, 0, 0, 0, 0, 1, 0, 1, 0, 0,\n",
       "        1, 1, 0, 0, 0, 1, 0, 0, 1, 1, 1, 0, 1, 0, 1, 0, 0, 0, 0, 0, 0, 0,\n",
       "        1, 0, 1, 0, 0, 0, 1, 1, 1, 0, 0, 0, 1, 0, 1, 1, 1, 0]))"
      ]
     },
     "execution_count": 2,
     "metadata": {},
     "output_type": "execute_result"
    }
   ],
   "source": [
    "import numpy as np\n",
    "from sklearn.model_selection import train_test_split, KFold\n",
    "from sklearn.tree import DecisionTreeClassifier\n",
    "import timeit\n",
    "import pandas as pd\n",
    "\n",
    "def cargar_datos():\n",
    "    df = pd.read_csv('https://github.com/aprendizaje-automatico-dc-uba-ar/material/raw/main/datasets/data_05/seleccion_modelos.csv')\n",
    "    X = df.drop(\"Y\", axis=1)\n",
    "    y = df.Y\n",
    "    return X.to_numpy(), y.to_numpy()\n",
    "\n",
    "X, y = cargar_datos()\n",
    "X,y"
   ]
  },
  {
   "cell_type": "markdown",
   "metadata": {},
   "source": [
    "Primero separaremos nuestro data set entre **desarrollo** y **evaluación** en un 10%. Para esto podemos usar `train_test_split`"
   ]
  },
  {
   "cell_type": "code",
   "execution_count": 3,
   "metadata": {},
   "outputs": [
    {
     "data": {
      "text/plain": [
       "numpy.ndarray"
      ]
     },
     "execution_count": 3,
     "metadata": {},
     "output_type": "execute_result"
    }
   ],
   "source": [
    "# separamos entre dev y eval\n",
    "X_dev, X_eval, y_dev, y_eval = train_test_split(\n",
    "                    X, \n",
    "                    y, \n",
    "                    random_state=4, \n",
    "                    test_size=0.1)\n",
    "type(y_eval)"
   ]
  },
  {
   "cell_type": "markdown",
   "metadata": {},
   "source": [
    "Por el momento dejaremos el set de evaluación de lado y nos manejaremos con el de desarrollo.\n",
    "\n",
    "Pasemos a experimentar los distinos `h_max` posibles.\n",
    "\n",
    "Usaremos estas dos funciones para entrenar un árbol y para usarlo para predecir respectivamente:"
   ]
  },
  {
   "cell_type": "code",
   "execution_count": 4,
   "metadata": {},
   "outputs": [],
   "source": [
    "def train_tree(X_tr: np.ndarray, y_tr: np.ndarray, tree_params={}) -> DecisionTreeClassifier:\n",
    "    arbol = DecisionTreeClassifier(**tree_params)\n",
    "    arbol.fit(X_tr, y_tr)\n",
    "\n",
    "    return arbol\n",
    "\n",
    "def tree_predict(ab: DecisionTreeClassifier, X_test: np.ndarray) -> np.ndarray:\n",
    "    predictions = ab.predict(X_test)\n",
    "    return predictions"
   ]
  },
  {
   "cell_type": "markdown",
   "metadata": {},
   "source": [
    "Y definimos la métrica a usar. A modo de ejemplo figura accuracy.\n",
    "\n",
    "Cambiar la medida por una nueva vista en clase."
   ]
  },
  {
   "cell_type": "code",
   "execution_count": 5,
   "metadata": {},
   "outputs": [],
   "source": [
    "def accuracy(y_predicted: np.ndarray, y_real: np.ndarray) -> float:\n",
    "    TP_TN = sum([y_i == y_j for (y_i, y_j) in zip(y_predicted, y_real)]) \n",
    "    P_N = len(y_real)\n",
    "    return TP_TN /P_N\n",
    "\n",
    "def metrica_seleccionada(y_predicted: np.ndarray, y_real: np.ndarray) -> float:\n",
    "    return accuracy(y_predicted, y_real)"
   ]
  },
  {
   "cell_type": "markdown",
   "metadata": {},
   "source": [
    "Realización del experimento.\n",
    "\n",
    "Nota: se inicializa con una semilla para poder reproducir el resultado."
   ]
  },
  {
   "cell_type": "code",
   "execution_count": 6,
   "metadata": {},
   "outputs": [
    {
     "name": "stdout",
     "output_type": "stream",
     "text": [
      "Órden obtenido según la métrica elegida\n",
      "\t1- h_max=1 con 0.881\n",
      "\t2- h_max=3 con 0.874\n",
      "\t3- h_max=2 con 0.867\n",
      "\t4- h_max=5 con 0.859\n",
      "\t5- h_max=8 con 0.830\n",
      "\t6- h_max=None con 0.822\n",
      "\t7- h_max=13 con 0.800\n",
      "\t8- h_max=21 con 0.800\n"
     ]
    }
   ],
   "source": [
    "results = []\n",
    "\n",
    "np.random.seed(44)\n",
    "for h_max in [None, 1, 2, 3, 5, 8, 13, 21]:\n",
    "    kf = KFold(n_splits=10)    \n",
    "    y_pred = np.empty(y_dev.shape)\n",
    "    y_pred.fill(np.nan)\n",
    "    \n",
    "    # generamos para cada fold una predicción\n",
    "    for train_index, test_index in kf.split(X_dev):\n",
    "        \n",
    "        #saco el fold que no uso para entrenar\n",
    "        kf_X_train, kf_X_test = X_dev[train_index], X_dev[test_index]\n",
    "        kf_y_train, kf_y_test = y_dev[train_index], y_dev[test_index]\n",
    "\n",
    "        current_tree = train_tree(kf_X_train, kf_y_train,\n",
    "                                    tree_params={\"max_depth\":h_max})\n",
    "        predictions = tree_predict(current_tree, kf_X_test)\n",
    "        y_pred[test_index] = predictions\n",
    "        \n",
    "    current_score = metrica_seleccionada(y_pred, y_dev)\n",
    "        \n",
    "    results.append((h_max,current_score))\n",
    "    \n",
    "\n",
    "# Ordenamos los resultados (puede ser que convenga del derecho o del reves)\n",
    "r = sorted(results, key=lambda x: x[1], reverse=True)\n",
    "\n",
    "print(\"Órden obtenido según la métrica elegida\")\n",
    "for idx, (h, sc) in enumerate(r):\n",
    "    print(f\"\\t{idx+1}- h_max={h} con {sc:.3f}\")"
   ]
  },
  {
   "cell_type": "markdown",
   "metadata": {},
   "source": [
    "Con los resultados obtenidos podemos elegir la `h_max` que nos parezca mejor. Con eso vamos a reentrenar el modelo con todos los datos. \n",
    "\n",
    "¿Qué teníamos que tener en cuenta en estos casos?"
   ]
  },
  {
   "cell_type": "code",
   "execution_count": 7,
   "metadata": {},
   "outputs": [],
   "source": [
    "# elegimos\n",
    "h_max = r[0][0]\n",
    "selection_score = r[0][1]"
   ]
  },
  {
   "cell_type": "code",
   "execution_count": 8,
   "metadata": {},
   "outputs": [],
   "source": [
    "assert selection_score is not None, \"Completar la celda anterior para continuar\""
   ]
  },
  {
   "cell_type": "markdown",
   "metadata": {},
   "source": [
    "Con el mejor parámetro entrenamos un nuevo clasificador:"
   ]
  },
  {
   "cell_type": "code",
   "execution_count": 9,
   "metadata": {},
   "outputs": [
    {
     "name": "stdout",
     "output_type": "stream",
     "text": [
      "Construimos nuestro clasificador con parámetro 'max_depth'=1. Para seleccionarlo el score que habíamos obtenido era 0.881\n"
     ]
    }
   ],
   "source": [
    "print(f\"Construimos nuestro clasificador con parámetro 'max_depth'={h_max}. \"\n",
    "     + f\"Para seleccionarlo el score que habíamos obtenido era {selection_score:.3f}\")\n",
    "\n",
    "best_tree = train_tree(X_dev, y_dev,\n",
    "                            tree_params={\"max_depth\":h_max})\n"
   ]
  },
  {
   "cell_type": "markdown",
   "metadata": {},
   "source": [
    "Podemos evaluar este árbol en train."
   ]
  },
  {
   "cell_type": "code",
   "execution_count": 10,
   "metadata": {
    "scrolled": true
   },
   "outputs": [
    {
     "name": "stdout",
     "output_type": "stream",
     "text": [
      "El score en dev es 0.904\n"
     ]
    }
   ],
   "source": [
    "y_pred = tree_predict(best_tree, X_dev)       \n",
    "best_tree_score = metrica_seleccionada(y_pred, y_dev)\n",
    "print(f\"El score en dev es {best_tree_score:.3f}\")"
   ]
  },
  {
   "cell_type": "markdown",
   "metadata": {},
   "source": [
    "¿Qué nos están diciendo estos dos scores?¿Para qué nos sirven? \n"
   ]
  },
  {
   "cell_type": "markdown",
   "metadata": {},
   "source": [
    "Por única vez vemos como funciona nuestro entrenamiento en los datos de **evaluación** que no habíamos mirado."
   ]
  },
  {
   "cell_type": "code",
   "execution_count": 11,
   "metadata": {},
   "outputs": [
    {
     "name": "stdout",
     "output_type": "stream",
     "text": [
      "Con el árbol entrenado con el parámetro seleccionado tenemos en eval un score de 0.733\n"
     ]
    }
   ],
   "source": [
    "y_pred_eval = tree_predict(best_tree, X_eval)       \n",
    "best_tree_score_eval = metrica_seleccionada(y_pred_eval, y_eval)\n",
    "\n",
    "print(f\"Con el árbol entrenado con el parámetro seleccionado tenemos en eval un score de {best_tree_score_eval:.3f}\")"
   ]
  },
  {
   "cell_type": "markdown",
   "metadata": {},
   "source": [
    "*Opcionales*\n",
    "\n",
    "1. Simular qué hubiese ocurrido si hubieramos elegido un K distinto. ¿La diferencia entre el score en *dev* y el score en *eval* cambia significativamente?\n",
    "2. Repetir el mismo ejercicio de elegir la mejor combinación de parametros pero esta vez establecer una grilla donde se exploren al menos dos hiperparámetros que no sean la altura máxima. Revisar la documentación de `DecisionTreeClassifier`, por ejemplo pueden elegir la **medida de impureza** y el **mínimo de muestas necesario para realizar un split**. Definir los rangos necesarios para explorar más de un valor de cada hiperparámetro considerado. ¿Este modelo fue mejor que el obtenido en el punto anterior?\n",
    "\n",
    "**Importante**: en este punto nos tomamos la licencia de usar nuevamente el conjunto de evaluación. El re-uso del conjunto de evaluación sólo lo permitimos en este caso por motivos pedagócios. Pero **NO DEBE** suceder en la práctica.\n",
    "\n"
   ]
  },
  {
   "cell_type": "code",
   "execution_count": 12,
   "metadata": {},
   "outputs": [
    {
     "name": "stdout",
     "output_type": "stream",
     "text": [
      "Results for different K values:\n",
      "K=5: Dev Score=0.889, Eval Score=0.733\n",
      "K=10: Dev Score=0.889, Eval Score=0.733\n",
      "K=15: Dev Score=0.889, Eval Score=0.733\n",
      "Best parameters: {'criterion': 'gini', 'min_samples_split': 5}, Best Eval Score: 0.800\n"
     ]
    }
   ],
   "source": [
    "from sklearn.metrics import accuracy_score\n",
    "\n",
    "# 1. simulacion de diferentes K\n",
    "def simulate_different_k(k_values, X_dev, y_dev, X_eval, y_eval):\n",
    "    results = {}\n",
    "    for k in k_values:\n",
    "        kf = KFold(n_splits=k, shuffle=True, random_state=44)\n",
    "        y_pred_dev = np.empty(y_dev.shape)\n",
    "        y_pred_dev.fill(np.nan)\n",
    "\n",
    "        for train_index, test_index in kf.split(X_dev):\n",
    "            kf_X_train, kf_X_test = X_dev[train_index], X_dev[test_index]\n",
    "            kf_y_train, kf_y_test = y_dev[train_index], y_dev[test_index]\n",
    "\n",
    "            current_tree = train_tree(kf_X_train, kf_y_train, tree_params={\"max_depth\": h_max})\n",
    "            predictions = tree_predict(current_tree, kf_X_test)\n",
    "            y_pred_dev[test_index] = predictions\n",
    "\n",
    "        dev_score = accuracy_score(y_dev, y_pred_dev)\n",
    "        eval_predictions = tree_predict(current_tree, X_eval)\n",
    "        eval_score = accuracy_score(y_eval, eval_predictions)\n",
    "\n",
    "        results[k] = {\"dev_score\": dev_score, \"eval_score\": eval_score}\n",
    "\n",
    "    return results\n",
    "\n",
    "k_values = [5, 10, 15]\n",
    "k_results = simulate_different_k(k_values, X_dev, y_dev, X_eval, y_eval)\n",
    "print(\"Results for different K values:\")\n",
    "for k, scores in k_results.items():\n",
    "    print(f\"K={k}: Dev Score={scores['dev_score']:.3f}, Eval Score={scores['eval_score']:.3f}\")\n",
    "\n",
    "# 2. grid search\n",
    "def grid_search_hyperparameters(X_dev, y_dev, X_eval, y_eval):\n",
    "    impurity_measures = [\"gini\", \"entropy\"]\n",
    "    min_samples_splits = [2, 5, 10]\n",
    "    best_params = None\n",
    "    best_eval_score = 0\n",
    "\n",
    "    for criterion in impurity_measures:\n",
    "        for min_samples_split in min_samples_splits:\n",
    "            kf = KFold(n_splits=10, shuffle=True, random_state=44)\n",
    "            y_pred_dev = np.empty(y_dev.shape)\n",
    "            y_pred_dev.fill(np.nan)\n",
    "\n",
    "            for train_index, test_index in kf.split(X_dev):\n",
    "                kf_X_train, kf_X_test = X_dev[train_index], X_dev[test_index]\n",
    "                kf_y_train, kf_y_test = y_dev[train_index], y_dev[test_index]\n",
    "\n",
    "                current_tree = train_tree(\n",
    "                    kf_X_train, kf_y_train,\n",
    "                    tree_params={\"criterion\": criterion, \"min_samples_split\": min_samples_split}\n",
    "                )\n",
    "                predictions = tree_predict(current_tree, kf_X_test)\n",
    "                y_pred_dev[test_index] = predictions\n",
    "\n",
    "            dev_score = accuracy_score(y_dev, y_pred_dev)\n",
    "            eval_predictions = tree_predict(current_tree, X_eval)\n",
    "            eval_score = accuracy_score(y_eval, eval_predictions)\n",
    "\n",
    "            if eval_score > best_eval_score:\n",
    "                best_eval_score = eval_score\n",
    "                best_params = {\"criterion\": criterion, \"min_samples_split\": min_samples_split}\n",
    "\n",
    "    return best_params, best_eval_score\n",
    "\n",
    "best_params, best_eval_score = grid_search_hyperparameters(X_dev, y_dev, X_eval, y_eval)\n",
    "print(f\"Best parameters: {best_params}, Best Eval Score: {best_eval_score:.3f}\")"
   ]
  },
  {
   "cell_type": "markdown",
   "metadata": {},
   "source": [
    "## Group K-Fold\n"
   ]
  },
  {
   "cell_type": "markdown",
   "metadata": {},
   "source": [
    "Cuando entrenamos modelos de machine learning, nuestro objetivo es evaluar correctamente su capacidad para generalizar a nuevos datos. Para ello, utilizamos técnicas de validación cruzada como K-Fold. Sin embargo, en algunos casos, el uso de K-Fold tradicional puede llevar a una sobreestimación del rendimiento del modelo si no se considera la estructura de los datos.\n",
    "\n",
    "Por ejemplo, si queremos que nuestro modelo sea capaz de predecir emociones en personas que nunca ha visto, pero en los datos de entrenamiento y prueba aparecen instancias de las mismas personas, estaremos evaluando algo distinto a lo que realmente nos interesa. En este caso, deberíamos agrupar las instancias por el atributo `persona_id`.\n",
    "\n",
    "Lo mismo ocurre en problemas médicos: si queremos que el modelo generalice a hospitales nuevos, pero en la validación se mezclan datos del mismo hospital entre el entrenamiento y la prueba, el modelo podría estar aprovechando características específicas de cada hospital en lugar de aprender patrones generales. Para evitarlo, debemos agrupar por `hospital_id`.\n",
    "\n",
    "Utilizar `Group K-Fold` nos permite asegurarnos de que la validación refleje realmente la capacidad del modelo para generalizar, garantizando que los datos de un mismo grupo no aparezcan en ambos conjuntos (entrenamiento y validación). Así, obtenemos una estimación más realista de su desempeño en escenarios del mundo real."
   ]
  },
  {
   "cell_type": "code",
   "execution_count": 13,
   "metadata": {},
   "outputs": [],
   "source": [
    "import numpy as np\n",
    "import pandas as pd\n",
    "\n",
    "# Simulación de datos médicos\n",
    "np.random.seed(42)\n",
    "n_samples = 1000\n",
    "n_patients = 7\n",
    "\n",
    "df = pd.DataFrame({\n",
    "    'biomarker1': np.random.randn(n_samples),\n",
    "    'biomarker2': np.random.randn(n_samples),\n",
    "    'patient_id': np.random.randint(0, n_patients, n_samples),  # Cada paciente tiene múltiples muestras\n",
    "    'disease': np.random.randint(0, 2, n_samples)  # 0 = sano, 1 = enfermo\n",
    "})"
   ]
  },
  {
   "cell_type": "markdown",
   "metadata": {},
   "source": [
    "Veamos cuánto es la estimación si usamos K-fold normal"
   ]
  },
  {
   "cell_type": "code",
   "execution_count": 14,
   "metadata": {},
   "outputs": [],
   "source": [
    "results_kfold = []\n",
    "\n",
    "X = df[['biomarker1', 'biomarker2', 'patient_id']].values\n",
    "y = df['disease'].values\n",
    "\n",
    "np.random.seed(44)\n",
    "for h_max in [None, 1, 2, 3, 5, 8, 13, 21]:\n",
    "    kf = KFold(n_splits=5, shuffle=True)    \n",
    "    y_pred = np.empty(y.shape)\n",
    "    y_pred.fill(np.nan)\n",
    "\n",
    "    # generamos para cada fold una predicción\n",
    "    for train_index, test_index in kf.split(X):\n",
    "        \n",
    "        #saco el fold que no uso para entrenar\n",
    "        kf_X_train, kf_X_test = X[train_index], X[test_index]\n",
    "        kf_y_train, kf_y_test = y[train_index], y[test_index]\n",
    "\n",
    "        current_tree = train_tree(kf_X_train, kf_y_train,\n",
    "                                    tree_params={\"max_depth\":h_max})\n",
    "        predictions = tree_predict(current_tree, kf_X_test)\n",
    "        y_pred[test_index] = predictions\n",
    "        \n",
    "    current_score = metrica_seleccionada(y_pred, y)\n",
    "        \n",
    "    results_kfold.append((h_max,current_score))"
   ]
  },
  {
   "cell_type": "code",
   "execution_count": 15,
   "metadata": {},
   "outputs": [
    {
     "data": {
      "text/plain": [
       "[(None, np.float64(0.498)),\n",
       " (1, np.float64(0.511)),\n",
       " (2, np.float64(0.513)),\n",
       " (3, np.float64(0.51)),\n",
       " (5, np.float64(0.493)),\n",
       " (8, np.float64(0.506)),\n",
       " (13, np.float64(0.496)),\n",
       " (21, np.float64(0.471))]"
      ]
     },
     "execution_count": 15,
     "metadata": {},
     "output_type": "execute_result"
    }
   ],
   "source": [
    "results_kfold"
   ]
  },
  {
   "cell_type": "markdown",
   "metadata": {},
   "source": [
    "Ahora hagamos el mismo procedimiento pero agrupando por el atributo 'patient_id', considerando que vamos a tener un fold por paciente."
   ]
  },
  {
   "cell_type": "code",
   "execution_count": 16,
   "metadata": {},
   "outputs": [],
   "source": [
    "results_group_kfold = []\n",
    "\n",
    "X = df[['biomarker1', 'biomarker2']].values  # Características sin patient_id\n",
    "y = df['disease'].values\n",
    "groups = df['patient_id'].values  # Usamos patient_id como grupo"
   ]
  },
  {
   "cell_type": "code",
   "execution_count": 17,
   "metadata": {},
   "outputs": [],
   "source": [
    "# TODO: Implementar Group K-Fold manualmente\n",
    "# 1. Obtener los grupos únicos\n",
    "unique_groups = np.unique(groups)\n",
    "\n",
    "# 2. Mezclar los grupos (para aleatorizar)\n",
    "np.random.shuffle(unique_groups)\n",
    "\n",
    "# 3. Dividir los grupos en folds (consideramos un grupo por fold)\n",
    "n_splits = len(unique_groups)\n",
    "group_folds = np.array_split(unique_groups, n_splits)\n",
    "\n",
    "# 4. Para cada profundidad máxima del árbol que quieras evaluar:\n",
    "for h_max in [None, 1, 2, 3, 5, 8, 13, 21]:\n",
    "    # Inicializa el array para guardar las predicciones\n",
    "    y_pred = np.empty(y.shape)\n",
    "    y_pred.fill(np.nan)\n",
    "    \n",
    "    # Para cada fold:\n",
    "    for i in range(n_splits):\n",
    "        # TODO: Definir qué grupos van a test y cuáles a train\n",
    "        grupos_test = group_folds[i]\n",
    "        grupos_train = np.concatenate([group_folds[j] for j in range(n_splits) if j != i])\n",
    "        \n",
    "        # TODO: Obtener los índices de las muestras para cada conjunto\n",
    "        index_test = np.isin(groups, grupos_test)\n",
    "        index_train = np.isin(groups, grupos_train)\n",
    "        \n",
    "        # TODO: Separar los datos según los índices\n",
    "        gkf_X_train, gkf_y_train = X[index_train], y[index_train]\n",
    "        gkf_X_test, gkf_y_test = X[index_test], y[index_test]\n",
    "        \n",
    "        current_tree = train_tree(gkf_X_train, gkf_y_train,\n",
    "                                  tree_params={\"max_depth\": h_max})\n",
    "        predictions = tree_predict(current_tree, gkf_X_test)\n",
    "        y_pred[index_test] = predictions\n",
    "    \n",
    "    # Evaluamos el rendimiento global\n",
    "    current_score = metrica_seleccionada(y, y_pred)\n",
    "    results_group_kfold.append((h_max, current_score))"
   ]
  },
  {
   "cell_type": "code",
   "execution_count": 18,
   "metadata": {},
   "outputs": [
    {
     "data": {
      "text/plain": [
       "[(None, np.float64(0.506)),\n",
       " (1, np.float64(0.519)),\n",
       " (2, np.float64(0.511)),\n",
       " (3, np.float64(0.509)),\n",
       " (5, np.float64(0.512)),\n",
       " (8, np.float64(0.519)),\n",
       " (13, np.float64(0.517)),\n",
       " (21, np.float64(0.505))]"
      ]
     },
     "execution_count": 18,
     "metadata": {},
     "output_type": "execute_result"
    }
   ],
   "source": [
    "results_group_kfold"
   ]
  },
  {
   "cell_type": "markdown",
   "metadata": {},
   "source": [
    "Si utilizamos validación cruzada K-Fold tradicional para seleccionar y evaluar nuestro modelo en un conjunto de datos donde múltiples muestras provienen de los mismos pacientes, ¿qué ocurriría cuando intentemos predecir con ese modelo en datos de un paciente completamente nuevo? ¿Cuál sería la relación entre la performance estimada durante la validación y la performance real observada en la práctica clínica con pacientes nuevos?\n",
    "\n",
    "Si utilizamos validación cruzada K-Fold tradicional en este caso, el modelo podría sobreestimar su capacidad de generalización, ya que estaría evaluándose con datos de pacientes que ya ha visto durante el entrenamiento. Esto podría llevar a una performance estimada más alta que la observada en la práctica clínica con pacientes completamente nuevos, donde el modelo enfrentará datos verdaderamente desconocidos."
   ]
  }
 ],
 "metadata": {
  "celltoolbar": "Tags",
  "kernelspec": {
   "display_name": "Python 3",
   "language": "python",
   "name": "python3"
  },
  "language_info": {
   "codemirror_mode": {
    "name": "ipython",
    "version": 3
   },
   "file_extension": ".py",
   "mimetype": "text/x-python",
   "name": "python",
   "nbconvert_exporter": "python",
   "pygments_lexer": "ipython3",
   "version": "3.12.2"
  }
 },
 "nbformat": 4,
 "nbformat_minor": 2
}
